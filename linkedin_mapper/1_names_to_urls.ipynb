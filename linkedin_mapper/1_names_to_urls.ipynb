{
 "cells": [
  {
   "cell_type": "markdown",
   "id": "directed-vacuum",
   "metadata": {},
   "source": [
    "# WPI Names -> LinkedIn URLs"
   ]
  },
  {
   "cell_type": "code",
   "execution_count": null,
   "id": "accessory-tomorrow",
   "metadata": {},
   "outputs": [],
   "source": [
    "from googleapiclient.discovery import build\n",
    "from tqdm import tqdm\n",
    "import json"
   ]
  },
  {
   "cell_type": "markdown",
   "id": "present-mother",
   "metadata": {},
   "source": [
    "## Read names from file"
   ]
  },
  {
   "cell_type": "code",
   "execution_count": null,
   "id": "indian-closer",
   "metadata": {},
   "outputs": [],
   "source": [
    "with open('names.json', 'r') as fh:\n",
    "    names = json.load(fh)\n",
    "len(names)"
   ]
  },
  {
   "cell_type": "markdown",
   "id": "foster-challenge",
   "metadata": {},
   "source": [
    "## Create Client"
   ]
  },
  {
   "cell_type": "code",
   "execution_count": null,
   "id": "upper-italic",
   "metadata": {},
   "outputs": [],
   "source": [
    "api_key = input('Input your developer key: ')\n",
    "api_key"
   ]
  },
  {
   "cell_type": "code",
   "execution_count": null,
   "id": "beautiful-basis",
   "metadata": {},
   "outputs": [],
   "source": [
    "engine_id = input('Input your engine ID: ')\n",
    "engine_id"
   ]
  },
  {
   "cell_type": "code",
   "execution_count": null,
   "id": "large-light",
   "metadata": {},
   "outputs": [],
   "source": [
    "service = build('customsearch', 'v1', developerKey=api_key)"
   ]
  },
  {
   "cell_type": "markdown",
   "id": "continued-affect",
   "metadata": {},
   "source": [
    "## Create Mapping"
   ]
  },
  {
   "cell_type": "code",
   "execution_count": null,
   "id": "fatal-checklist",
   "metadata": {},
   "outputs": [],
   "source": [
    "mapping = {}\n",
    "print('Getting LinkedIn URLs...')\n",
    "for name in tqdm(names[:200]):\n",
    "    res = service.cse().siterestrict().list(\n",
    "        q=f'-intitle:profiles {name}', cx=engine_id, num=1,\n",
    "        exactTerms='Worcester Polytechnic Institute').execute()\n",
    "    if res and 'items' in res:\n",
    "        mapping[name] = res['items'][0]['link']"
   ]
  },
  {
   "cell_type": "code",
   "execution_count": null,
   "id": "structural-stomach",
   "metadata": {},
   "outputs": [],
   "source": [
    "len(mapping)"
   ]
  },
  {
   "cell_type": "code",
   "execution_count": null,
   "id": "postal-defense",
   "metadata": {},
   "outputs": [],
   "source": [
    "with open('mapping.json', 'w') as fh:\n",
    "    json.dump(mapping, fh)"
   ]
  },
  {
   "cell_type": "code",
   "execution_count": null,
   "id": "handed-tragedy",
   "metadata": {},
   "outputs": [],
   "source": []
  }
 ],
 "metadata": {
  "kernelspec": {
   "display_name": "Python 3",
   "language": "python",
   "name": "python3"
  },
  "language_info": {
   "codemirror_mode": {
    "name": "ipython",
    "version": 3
   },
   "file_extension": ".py",
   "mimetype": "text/x-python",
   "name": "python",
   "nbconvert_exporter": "python",
   "pygments_lexer": "ipython3",
   "version": "3.9.2"
  }
 },
 "nbformat": 4,
 "nbformat_minor": 5
}

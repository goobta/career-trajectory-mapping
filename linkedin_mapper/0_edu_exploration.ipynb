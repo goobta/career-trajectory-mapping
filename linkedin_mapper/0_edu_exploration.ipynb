{
 "cells": [
  {
   "cell_type": "markdown",
   "id": "signal-genre",
   "metadata": {},
   "source": [
    "# Alumni Education History Exploratory Analysis"
   ]
  },
  {
   "cell_type": "markdown",
   "id": "material-buying",
   "metadata": {},
   "source": [
    "## Imports"
   ]
  },
  {
   "cell_type": "code",
   "execution_count": null,
   "id": "cutting-graduate",
   "metadata": {},
   "outputs": [],
   "source": [
    "import pandas as pd\n",
    "import json"
   ]
  },
  {
   "cell_type": "markdown",
   "id": "needed-substitute",
   "metadata": {},
   "source": [
    "## Load Data From File"
   ]
  },
  {
   "cell_type": "code",
   "execution_count": null,
   "id": "nonprofit-samba",
   "metadata": {},
   "outputs": [],
   "source": [
    "edu = pd.read_csv('alumni-edu-history.csv')\n",
    "edu.head()"
   ]
  },
  {
   "cell_type": "markdown",
   "id": "proper-prize",
   "metadata": {},
   "source": [
    "## Rudamentary Exploration\n",
    "Simple explorations to understand what type of data we actually have access to"
   ]
  },
  {
   "cell_type": "markdown",
   "id": "angry-familiar",
   "metadata": {},
   "source": [
    "See which columns are available"
   ]
  },
  {
   "cell_type": "code",
   "execution_count": null,
   "id": "unable-lounge",
   "metadata": {},
   "outputs": [],
   "source": [
    "edu.columns"
   ]
  },
  {
   "cell_type": "markdown",
   "id": "hybrid-exhibit",
   "metadata": {},
   "source": [
    "descriptive stats"
   ]
  },
  {
   "cell_type": "code",
   "execution_count": null,
   "id": "possible-lewis",
   "metadata": {},
   "outputs": [],
   "source": [
    "edu.describe()"
   ]
  },
  {
   "cell_type": "markdown",
   "id": "healthy-helena",
   "metadata": {},
   "source": [
    "### Department Information"
   ]
  },
  {
   "cell_type": "markdown",
   "id": "understood-commission",
   "metadata": {},
   "source": [
    "all depts"
   ]
  },
  {
   "cell_type": "code",
   "execution_count": null,
   "id": "collective-protein",
   "metadata": {},
   "outputs": [],
   "source": [
    "pd.unique(edu[['Major #1 Department', 'Major #2 Department']].values.ravel('K'))"
   ]
  },
  {
   "cell_type": "markdown",
   "id": "formal-butter",
   "metadata": {},
   "source": [
    "all majors"
   ]
  },
  {
   "cell_type": "code",
   "execution_count": null,
   "id": "vanilla-diving",
   "metadata": {
    "scrolled": true,
    "tags": []
   },
   "outputs": [],
   "source": [
    "pd.unique(edu[['Major #1', 'Major #2']].values.ravel('K'))"
   ]
  },
  {
   "cell_type": "markdown",
   "id": "fancy-button",
   "metadata": {},
   "source": [
    "## Basic Filtering"
   ]
  },
  {
   "cell_type": "markdown",
   "id": "continued-video",
   "metadata": {},
   "source": [
    "### FSB + relevant data filtering"
   ]
  },
  {
   "cell_type": "markdown",
   "id": "moved-puppy",
   "metadata": {},
   "source": [
    "Only get people from FSB"
   ]
  },
  {
   "cell_type": "code",
   "execution_count": null,
   "id": "union-royalty",
   "metadata": {},
   "outputs": [],
   "source": [
    "bus = edu[(edu['Major #1 Department'] == 'Management') | (edu['Major #2 Department'] == 'Management')]\n",
    "bus.describe()"
   ]
  },
  {
   "cell_type": "markdown",
   "id": "native-research",
   "metadata": {},
   "source": [
    "Select people in the last 50 years"
   ]
  },
  {
   "cell_type": "code",
   "execution_count": null,
   "id": "manufactured-transsexual",
   "metadata": {},
   "outputs": [],
   "source": [
    "bus = bus[(bus['Contact: Preferred Class Year'] >= (2020 - 50)) & (bus['Contact: Preferred Class Year'] <= 2020)]\n",
    "bus.describe()"
   ]
  },
  {
   "cell_type": "raw",
   "id": "coated-giving",
   "metadata": {},
   "source": [
    "Only get wpi alumni"
   ]
  },
  {
   "cell_type": "code",
   "execution_count": null,
   "id": "ethical-liver",
   "metadata": {},
   "outputs": [],
   "source": [
    "bus = bus[bus['Education: Record Type'] == 'WPI Degree']\n",
    "bus.describe()"
   ]
  },
  {
   "cell_type": "markdown",
   "id": "motivated-knife",
   "metadata": {},
   "source": [
    "Ensure that only relevant degrees are being picked"
   ]
  },
  {
   "cell_type": "code",
   "execution_count": null,
   "id": "concerned-malawi",
   "metadata": {},
   "outputs": [],
   "source": [
    "bus['Degree/Certificate'].unique()"
   ]
  },
  {
   "cell_type": "code",
   "execution_count": null,
   "id": "personal-agreement",
   "metadata": {},
   "outputs": [],
   "source": [
    "accepted_degrees = ['Bachelor of Science', 'Master of Science',\n",
    "       'Master of Business Admin.', 'Master of Science in Mgmt.',\n",
    "       'Bachelor of Arts']\n",
    "accept_regex = '|'.join(accepted_degrees)\n",
    "bus = bus[bus['Degree/Certificate'].str.contains(accept_regex)]\n",
    "bus.describe()"
   ]
  },
  {
   "cell_type": "markdown",
   "id": "domestic-validity",
   "metadata": {},
   "source": [
    "### Uniqueness"
   ]
  },
  {
   "cell_type": "markdown",
   "id": "pressing-gates",
   "metadata": {},
   "source": [
    "Seems that we have duplicate names"
   ]
  },
  {
   "cell_type": "code",
   "execution_count": null,
   "id": "surface-disaster",
   "metadata": {},
   "outputs": [],
   "source": [
    "bus['Contact: Full Name'].nunique()"
   ]
  },
  {
   "cell_type": "markdown",
   "id": "conservative-sullivan",
   "metadata": {},
   "source": [
    "Duplicated names are for multiple degrees; should be fine to keep them in"
   ]
  },
  {
   "cell_type": "code",
   "execution_count": null,
   "id": "female-engineering",
   "metadata": {},
   "outputs": [],
   "source": [
    "bus[bus['Contact: Full Name'] == 'Akshay Rao']"
   ]
  },
  {
   "cell_type": "markdown",
   "id": "tight-panic",
   "metadata": {},
   "source": [
    "## Generate final list of alumni"
   ]
  },
  {
   "cell_type": "code",
   "execution_count": null,
   "id": "motivated-universal",
   "metadata": {},
   "outputs": [],
   "source": [
    "names = list(bus['Contact: Full Name'].unique())"
   ]
  },
  {
   "cell_type": "markdown",
   "id": "julian-movie",
   "metadata": {},
   "source": [
    "Write to a file"
   ]
  },
  {
   "cell_type": "code",
   "execution_count": null,
   "id": "graphic-grammar",
   "metadata": {},
   "outputs": [],
   "source": [
    "with open('names.json', 'w') as fh:\n",
    "    json.dump(names, fh)"
   ]
  },
  {
   "cell_type": "code",
   "execution_count": null,
   "id": "herbal-sherman",
   "metadata": {},
   "outputs": [],
   "source": []
  }
 ],
 "metadata": {
  "kernelspec": {
   "display_name": "Python 3",
   "language": "python",
   "name": "python3"
  },
  "language_info": {
   "codemirror_mode": {
    "name": "ipython",
    "version": 3
   },
   "file_extension": ".py",
   "mimetype": "text/x-python",
   "name": "python",
   "nbconvert_exporter": "python",
   "pygments_lexer": "ipython3",
   "version": "3.9.2"
  }
 },
 "nbformat": 4,
 "nbformat_minor": 5
}

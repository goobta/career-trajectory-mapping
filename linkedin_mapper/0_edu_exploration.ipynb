{
 "cells": [
  {
   "cell_type": "markdown",
   "id": "automatic-penguin",
   "metadata": {},
   "source": [
    "# Alumni Education History Exploratory Analysis"
   ]
  },
  {
   "cell_type": "markdown",
   "id": "surrounded-thumb",
   "metadata": {},
   "source": [
    "## Imports"
   ]
  },
  {
   "cell_type": "code",
   "execution_count": null,
   "id": "induced-resort",
   "metadata": {},
   "outputs": [],
   "source": [
    "import pandas as pd\n",
    "import json"
   ]
  },
  {
   "cell_type": "markdown",
   "id": "joined-softball",
   "metadata": {},
   "source": [
    "## Load Data From File"
   ]
  },
  {
   "cell_type": "code",
   "execution_count": null,
   "id": "synthetic-mainstream",
   "metadata": {},
   "outputs": [],
   "source": [
    "edu = pd.read_csv('alumni-edu-history.csv')\n",
    "edu.head()"
   ]
  },
  {
   "cell_type": "code",
   "execution_count": null,
   "id": "complete-separate",
   "metadata": {},
   "outputs": [],
   "source": []
  },
  {
   "cell_type": "markdown",
   "id": "natural-treasurer",
   "metadata": {},
   "source": [
    "## Rudamentary Exploration\n",
    "Simple explorations to understand what type of data we actually have access to"
   ]
  },
  {
   "cell_type": "markdown",
   "id": "appointed-maker",
   "metadata": {},
   "source": [
    "See which columns are available"
   ]
  },
  {
   "cell_type": "code",
   "execution_count": null,
   "id": "vietnamese-dialogue",
   "metadata": {},
   "outputs": [],
   "source": [
    "edu.columns"
   ]
  },
  {
   "cell_type": "markdown",
   "id": "exotic-infrastructure",
   "metadata": {},
   "source": [
    "descriptive stats"
   ]
  },
  {
   "cell_type": "code",
   "execution_count": null,
   "id": "saving-reservation",
   "metadata": {},
   "outputs": [],
   "source": [
    "edu.describe()"
   ]
  },
  {
   "cell_type": "markdown",
   "id": "immediate-iceland",
   "metadata": {},
   "source": [
    "### Department Information"
   ]
  },
  {
   "cell_type": "markdown",
   "id": "hollywood-broadcast",
   "metadata": {},
   "source": [
    "all depts"
   ]
  },
  {
   "cell_type": "code",
   "execution_count": null,
   "id": "saving-rating",
   "metadata": {},
   "outputs": [],
   "source": [
    "pd.unique(edu[['Major #1 Department', 'Major #2 Department']].values.ravel('K'))"
   ]
  },
  {
   "cell_type": "markdown",
   "id": "caring-workstation",
   "metadata": {},
   "source": [
    "all majors"
   ]
  },
  {
   "cell_type": "code",
   "execution_count": null,
   "id": "recognized-dependence",
   "metadata": {
    "scrolled": true,
    "tags": []
   },
   "outputs": [],
   "source": [
    "pd.unique(edu[['Major #1', 'Major #2']].values.ravel('K'))"
   ]
  },
  {
   "cell_type": "markdown",
   "id": "spoken-scheme",
   "metadata": {},
   "source": [
    "## Basic Filtering"
   ]
  },
  {
   "cell_type": "markdown",
   "id": "finnish-gallery",
   "metadata": {},
   "source": [
    "### FSB + relevant data filtering"
   ]
  },
  {
   "cell_type": "markdown",
   "id": "interracial-throat",
   "metadata": {},
   "source": [
    "Only get people from FSB"
   ]
  },
  {
   "cell_type": "code",
   "execution_count": null,
   "id": "romance-court",
   "metadata": {},
   "outputs": [],
   "source": [
    "bus = edu[(edu['Major #1 Department'] == 'Management') | (edu['Major #2 Department'] == 'Management') | (edu['Minor #1 Department'] == 'Management') | (edu['Minor #2 Department'] == 'Management')]\n",
    "bus.describe()"
   ]
  },
  {
   "cell_type": "markdown",
   "id": "loved-motorcycle",
   "metadata": {},
   "source": [
    "Select people in the last 50 years"
   ]
  },
  {
   "cell_type": "code",
   "execution_count": null,
   "id": "graduate-trainer",
   "metadata": {},
   "outputs": [],
   "source": [
    "bus = bus[(bus['Contact: Preferred Class Year'] >= (2020 - 50)) & (bus['Contact: Preferred Class Year'] <= 2020)]\n",
    "bus.describe()"
   ]
  },
  {
   "cell_type": "raw",
   "id": "eastern-ontario",
   "metadata": {},
   "source": [
    "Only get wpi alumni"
   ]
  },
  {
   "cell_type": "code",
   "execution_count": null,
   "id": "married-primary",
   "metadata": {},
   "outputs": [],
   "source": [
    "bus = bus[bus['Education: Record Type'] == 'WPI Degree']\n",
    "bus.describe()"
   ]
  },
  {
   "cell_type": "markdown",
   "id": "classical-classroom",
   "metadata": {},
   "source": [
    "Ensure that only relevant degrees are being picked"
   ]
  },
  {
   "cell_type": "code",
   "execution_count": null,
   "id": "creative-circuit",
   "metadata": {},
   "outputs": [],
   "source": [
    "bus['Degree/Certificate'].unique()"
   ]
  },
  {
   "cell_type": "code",
   "execution_count": null,
   "id": "binary-anger",
   "metadata": {},
   "outputs": [],
   "source": [
    "accepted_degrees = ['Bachelor of Science', 'Master of Science',\n",
    "       'Master of Business Admin.', 'Master of Science in Mgmt.',\n",
    "       'Bachelor of Arts']\n",
    "accept_regex = '|'.join(accepted_degrees)\n",
    "bus = bus[bus['Degree/Certificate'].str.contains(accept_regex)]\n",
    "bus.describe()"
   ]
  },
  {
   "cell_type": "markdown",
   "id": "limiting-language",
   "metadata": {},
   "source": [
    "### Uniqueness"
   ]
  },
  {
   "cell_type": "markdown",
   "id": "macro-closure",
   "metadata": {},
   "source": [
    "Seems that we have duplicate names"
   ]
  },
  {
   "cell_type": "code",
   "execution_count": null,
   "id": "completed-nurse",
   "metadata": {},
   "outputs": [],
   "source": [
    "bus['Contact: Full Name'].nunique()"
   ]
  },
  {
   "cell_type": "markdown",
   "id": "complicated-grant",
   "metadata": {},
   "source": [
    "Duplicated names are for multiple degrees; should be fine to keep them in"
   ]
  },
  {
   "cell_type": "code",
   "execution_count": null,
   "id": "placed-mother",
   "metadata": {},
   "outputs": [],
   "source": [
    "bus[bus['Contact: Full Name'] == 'Akshay Rao']"
   ]
  },
  {
   "cell_type": "markdown",
   "id": "mechanical-radar",
   "metadata": {},
   "source": [
    "## Generate final list of alumni"
   ]
  },
  {
   "cell_type": "code",
   "execution_count": null,
   "id": "necessary-damage",
   "metadata": {},
   "outputs": [],
   "source": [
    "names = list(bus['Contact: Full Name'].unique())"
   ]
  },
  {
   "cell_type": "markdown",
   "id": "dimensional-biodiversity",
   "metadata": {},
   "source": [
    "Write to a file"
   ]
  },
  {
   "cell_type": "code",
   "execution_count": null,
   "id": "floating-banner",
   "metadata": {},
   "outputs": [],
   "source": [
    "with open('names.json', 'w') as fh:\n",
    "    json.dump(names, fh)"
   ]
  },
  {
   "cell_type": "code",
   "execution_count": null,
   "id": "adaptive-model",
   "metadata": {},
   "outputs": [],
   "source": []
  }
 ],
 "metadata": {
  "kernelspec": {
   "display_name": "Python 3",
   "language": "python",
   "name": "python3"
  },
  "language_info": {
   "codemirror_mode": {
    "name": "ipython",
    "version": 3
   },
   "file_extension": ".py",
   "mimetype": "text/x-python",
   "name": "python",
   "nbconvert_exporter": "python",
   "pygments_lexer": "ipython3",
   "version": "3.9.2"
  }
 },
 "nbformat": 4,
 "nbformat_minor": 5
}

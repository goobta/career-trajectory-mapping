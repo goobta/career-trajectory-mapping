{
 "cells": [
  {
   "cell_type": "markdown",
   "id": "parallel-transsexual",
   "metadata": {},
   "source": [
    "# Precompte Calculated Fields\n",
    "Tableau be slow af so use zippy Python to precompute everything and store it. Yeah, Tableau is that bad that I called _Python_ fast"
   ]
  },
  {
   "cell_type": "markdown",
   "id": "strategic-bolivia",
   "metadata": {},
   "source": [
    "## Load the raw, scraped data"
   ]
  },
  {
   "cell_type": "code",
   "execution_count": null,
   "id": "experienced-consciousness",
   "metadata": {},
   "outputs": [],
   "source": [
    "import json\n",
    "with open('scrapped.json', 'r') as fh:\n",
    "    data = json.load(fh)\n",
    "data[0]"
   ]
  },
  {
   "cell_type": "markdown",
   "id": "internal-headline",
   "metadata": {},
   "source": [
    "### Create test user to validate upon"
   ]
  },
  {
   "cell_type": "code",
   "execution_count": null,
   "id": "coral-briefs",
   "metadata": {},
   "outputs": [],
   "source": [
    "user = lambda: data[0].copy()"
   ]
  },
  {
   "cell_type": "markdown",
   "id": "sized-delivery",
   "metadata": {},
   "source": [
    "## Basic Cleaning\n",
    "This will all be outsourced to another script down the line."
   ]
  },
  {
   "cell_type": "markdown",
   "id": "disabled-bradley",
   "metadata": {},
   "source": [
    "### Fix year / dates\n",
    "People sometimes don't include the month in their profiles"
   ]
  },
  {
   "cell_type": "code",
   "execution_count": null,
   "id": "advance-bench",
   "metadata": {},
   "outputs": [],
   "source": [
    "def year(info):\n",
    "    for job in info['professional']:\n",
    "        if not job['start_year']:\n",
    "            job['start_year'] = int(job['start_month'])\n",
    "            job['start_month'] = 'Jan'\n",
    "        else:\n",
    "            job['start_year'] = int(job['start_year'])\n",
    "            \n",
    "        if not job['end_year']:\n",
    "            job['end_year'] = int(job['end_month'])\n",
    "            job['end_month'] = 'Jan'\n",
    "        else:\n",
    "            job['end_year'] = int(job['end_year'])\n",
    "    return info\n",
    "\n",
    "data = [year(d) for d in data]\n",
    "data[0]"
   ]
  },
  {
   "cell_type": "markdown",
   "id": "prompt-detector",
   "metadata": {},
   "source": [
    "## Create Derived Features\n",
    "I'll first create a bunch of helper functions + basic test--and then I'll assign everything at the very end."
   ]
  },
  {
   "cell_type": "markdown",
   "id": "quick-reader",
   "metadata": {},
   "source": [
    "### Years Since First Job\n",
    "Show how long the person spent in each job"
   ]
  },
  {
   "cell_type": "code",
   "execution_count": null,
   "id": "selected-bracket",
   "metadata": {},
   "outputs": [],
   "source": [
    "def years_since_first_job(info):\n",
    "    first_job = info['professional'][0]['start_year']\n",
    "    \n",
    "    for job in info['professional']:\n",
    "        # HACK NEED TO FIX\n",
    "        job['years_since_start'] = job['start_year'] - first_job\n",
    "    \n",
    "    return info"
   ]
  },
  {
   "cell_type": "markdown",
   "id": "previous-pioneer",
   "metadata": {},
   "source": [
    "Validate"
   ]
  },
  {
   "cell_type": "code",
   "execution_count": null,
   "id": "close-oasis",
   "metadata": {},
   "outputs": [],
   "source": [
    "years_since_first_job(user())"
   ]
  },
  {
   "cell_type": "markdown",
   "id": "imported-utility",
   "metadata": {},
   "source": [
    "### Job Tenure\n",
    "How long the person has been at their current job."
   ]
  },
  {
   "cell_type": "code",
   "execution_count": null,
   "id": "suburban-tourism",
   "metadata": {},
   "outputs": [],
   "source": [
    "def job_tenure(info):\n",
    "    for job in info['professional']:\n",
    "        # HACK NEED TO FIX\n",
    "        job['tenure'] = max(job['end_year'] - job['start_year'], 1)\n",
    "    return info"
   ]
  },
  {
   "cell_type": "markdown",
   "id": "welsh-confidence",
   "metadata": {},
   "source": [
    "Validate"
   ]
  },
  {
   "cell_type": "code",
   "execution_count": null,
   "id": "joint-minneapolis",
   "metadata": {},
   "outputs": [],
   "source": [
    "job_tenure(user())"
   ]
  },
  {
   "cell_type": "markdown",
   "id": "black-wales",
   "metadata": {},
   "source": [
    "## TODO: Derived Features\n",
    "Just some cool ideas that I can't implement now, but might explore down the line."
   ]
  },
  {
   "cell_type": "markdown",
   "id": "compact-thing",
   "metadata": {},
   "source": [
    "### Company Tenure / Satisfaction\n",
    "Show how long the person spent at each company."
   ]
  },
  {
   "cell_type": "markdown",
   "id": "owned-button",
   "metadata": {},
   "source": [
    "### Years Since WPI\n",
    "Basically the same thing as `Years Since First Job`, but this is assuming that the data is theta-joined with registrar data to get immediate post-WPI insights.\n",
    "\n",
    "Interesting insights could also be `Years since WPI`, and `Years since Last Degree`"
   ]
  },
  {
   "cell_type": "markdown",
   "id": "small-republican",
   "metadata": {},
   "source": [
    "## Merge all modifications"
   ]
  },
  {
   "cell_type": "markdown",
   "id": "heated-consent",
   "metadata": {},
   "source": [
    "Create a super simple, parallelizable function"
   ]
  },
  {
   "cell_type": "code",
   "execution_count": null,
   "id": "traditional-asset",
   "metadata": {},
   "outputs": [],
   "source": [
    "def post(d):\n",
    "    d = years_since_first_job(d)\n",
    "    d = job_tenure(d)\n",
    "    return d"
   ]
  },
  {
   "cell_type": "markdown",
   "id": "opponent-warner",
   "metadata": {},
   "source": [
    "Since the size is small, we can just process this bad boy sequentially. TODO: parallelize when dealing with the full data set."
   ]
  },
  {
   "cell_type": "code",
   "execution_count": null,
   "id": "planned-counter",
   "metadata": {},
   "outputs": [],
   "source": [
    "new = []\n",
    "for d in data:\n",
    "    try:\n",
    "        new.append(post(d.copy()))\n",
    "    except:\n",
    "        print(d)\n",
    "        raise\n",
    "new[0]"
   ]
  },
  {
   "cell_type": "markdown",
   "id": "asian-visit",
   "metadata": {},
   "source": [
    "Write to json"
   ]
  },
  {
   "cell_type": "code",
   "execution_count": null,
   "id": "floral-salvation",
   "metadata": {},
   "outputs": [],
   "source": [
    "with open('processed.json', 'w') as fh:\n",
    "    json.dump(new, fh)"
   ]
  },
  {
   "cell_type": "code",
   "execution_count": null,
   "id": "looking-choir",
   "metadata": {},
   "outputs": [],
   "source": []
  }
 ],
 "metadata": {
  "kernelspec": {
   "display_name": "Python 3",
   "language": "python",
   "name": "python3"
  },
  "language_info": {
   "codemirror_mode": {
    "name": "ipython",
    "version": 3
   },
   "file_extension": ".py",
   "mimetype": "text/x-python",
   "name": "python",
   "nbconvert_exporter": "python",
   "pygments_lexer": "ipython3",
   "version": "3.9.2"
  },
  "toc-autonumbering": true,
  "toc-showcode": false,
  "toc-showmarkdowntxt": false
 },
 "nbformat": 4,
 "nbformat_minor": 5
}

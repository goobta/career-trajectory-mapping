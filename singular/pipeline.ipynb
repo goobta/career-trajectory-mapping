{
 "cells": [
  {
   "cell_type": "markdown",
   "id": "facial-filename",
   "metadata": {},
   "source": [
    "# Alumni Education History Filtering"
   ]
  },
  {
   "cell_type": "markdown",
   "id": "empirical-society",
   "metadata": {},
   "source": [
    "## Imports"
   ]
  },
  {
   "cell_type": "code",
   "execution_count": 1,
   "id": "visible-trauma",
   "metadata": {},
   "outputs": [],
   "source": [
    "import pandas as pd\n",
    "import json\n",
    "import math\n",
    "import time"
   ]
  },
  {
   "cell_type": "markdown",
   "id": "concerned-calendar",
   "metadata": {},
   "source": [
    "## Load Data From File"
   ]
  },
  {
   "cell_type": "code",
   "execution_count": 2,
   "id": "virtual-resident",
   "metadata": {},
   "outputs": [
    {
     "name": "stderr",
     "output_type": "stream",
     "text": [
      "/home/agupta/Documents/education/wpi/senior/iqp/career-trajectory-mapping/venv-iqp/lib/python3.9/site-packages/IPython/core/interactiveshell.py:3165: DtypeWarning: Columns (18) have mixed types.Specify dtype option on import or set low_memory=False.\n",
      "  has_raised = await self.run_ast_nodes(code_ast.body, cell_name,\n"
     ]
    },
    {
     "data": {
      "text/html": [
       "<div>\n",
       "<style scoped>\n",
       "    .dataframe tbody tr th:only-of-type {\n",
       "        vertical-align: middle;\n",
       "    }\n",
       "\n",
       "    .dataframe tbody tr th {\n",
       "        vertical-align: top;\n",
       "    }\n",
       "\n",
       "    .dataframe thead th {\n",
       "        text-align: right;\n",
       "    }\n",
       "</style>\n",
       "<table border=\"1\" class=\"dataframe\">\n",
       "  <thead>\n",
       "    <tr style=\"text-align: right;\">\n",
       "      <th></th>\n",
       "      <th>Contact: Case Safe ID</th>\n",
       "      <th>Contact: Full Name</th>\n",
       "      <th>Contact: Constituent Category (Primary)</th>\n",
       "      <th>Contact: Preferred Class Year</th>\n",
       "      <th>Education: Education History</th>\n",
       "      <th>Degree/Certificate</th>\n",
       "      <th>Degree Year</th>\n",
       "      <th>End Year</th>\n",
       "      <th>Graduation Year</th>\n",
       "      <th>Institution Name</th>\n",
       "      <th>...</th>\n",
       "      <th>Minor #2</th>\n",
       "      <th>Minor #2 Department</th>\n",
       "      <th>Other Information Related to Degree</th>\n",
       "      <th>Start Year</th>\n",
       "      <th>Student Status</th>\n",
       "      <th>Education: Record Type</th>\n",
       "      <th>Education: Created By</th>\n",
       "      <th>Education: Created Date</th>\n",
       "      <th>Education: Last Modified By</th>\n",
       "      <th>Education: Last Modified Date</th>\n",
       "    </tr>\n",
       "  </thead>\n",
       "  <tbody>\n",
       "    <tr>\n",
       "      <th>0</th>\n",
       "      <td>003G0000024bMwNIAU</td>\n",
       "      <td>Mark Korir</td>\n",
       "      <td>Graduate Alumnus</td>\n",
       "      <td>2017.0</td>\n",
       "      <td>120338</td>\n",
       "      <td>Master of Business Admin.</td>\n",
       "      <td>2014.0</td>\n",
       "      <td>NaN</td>\n",
       "      <td>2014.0</td>\n",
       "      <td>Hodges University</td>\n",
       "      <td>...</td>\n",
       "      <td>NaN</td>\n",
       "      <td>NaN</td>\n",
       "      <td>NaN</td>\n",
       "      <td>NaN</td>\n",
       "      <td>NaN</td>\n",
       "      <td>Non-WPI Degree</td>\n",
       "      <td>Anthony McMahon</td>\n",
       "      <td>8/23/2018</td>\n",
       "      <td>Anthony McMahon</td>\n",
       "      <td>8/23/2018</td>\n",
       "    </tr>\n",
       "    <tr>\n",
       "      <th>1</th>\n",
       "      <td>003G000001oerenIAA</td>\n",
       "      <td>Rebecca Ide</td>\n",
       "      <td>Alumna/us</td>\n",
       "      <td>2012.0</td>\n",
       "      <td>185152</td>\n",
       "      <td>Non-Degree</td>\n",
       "      <td>NaN</td>\n",
       "      <td>NaN</td>\n",
       "      <td>NaN</td>\n",
       "      <td>Becker College Worcester</td>\n",
       "      <td>...</td>\n",
       "      <td>NaN</td>\n",
       "      <td>NaN</td>\n",
       "      <td>NaN</td>\n",
       "      <td>NaN</td>\n",
       "      <td>NaN</td>\n",
       "      <td>WPI Degree</td>\n",
       "      <td>API-Only</td>\n",
       "      <td>8/27/2018</td>\n",
       "      <td>API-Only</td>\n",
       "      <td>8/27/2018</td>\n",
       "    </tr>\n",
       "    <tr>\n",
       "      <th>2</th>\n",
       "      <td>003G000001of21qIAA</td>\n",
       "      <td>Kevin Lynch</td>\n",
       "      <td>Alumna/us</td>\n",
       "      <td>2018.0</td>\n",
       "      <td>174184</td>\n",
       "      <td>Bachelor of Science</td>\n",
       "      <td>2017.0</td>\n",
       "      <td>NaN</td>\n",
       "      <td>2017.0</td>\n",
       "      <td>Worcester Polytechnic Institute</td>\n",
       "      <td>...</td>\n",
       "      <td>NaN</td>\n",
       "      <td>NaN</td>\n",
       "      <td>NaN</td>\n",
       "      <td>NaN</td>\n",
       "      <td>Inactive</td>\n",
       "      <td>WPI Degree</td>\n",
       "      <td>Anthony McMahon</td>\n",
       "      <td>8/23/2018</td>\n",
       "      <td>Jeffrey Caglarcan</td>\n",
       "      <td>8/18/2019</td>\n",
       "    </tr>\n",
       "    <tr>\n",
       "      <th>3</th>\n",
       "      <td>003G000001oeYxWIAU</td>\n",
       "      <td>Zareh Martin</td>\n",
       "      <td>Alumna/us</td>\n",
       "      <td>1940.0</td>\n",
       "      <td>155692</td>\n",
       "      <td>Bachelor of Science</td>\n",
       "      <td>1940.0</td>\n",
       "      <td>NaN</td>\n",
       "      <td>1940.0</td>\n",
       "      <td>Worcester Polytechnic Institute</td>\n",
       "      <td>...</td>\n",
       "      <td>NaN</td>\n",
       "      <td>NaN</td>\n",
       "      <td>NaN</td>\n",
       "      <td>NaN</td>\n",
       "      <td>Inactive</td>\n",
       "      <td>WPI Degree</td>\n",
       "      <td>Anthony McMahon</td>\n",
       "      <td>8/23/2018</td>\n",
       "      <td>Jeffrey Caglarcan</td>\n",
       "      <td>8/18/2019</td>\n",
       "    </tr>\n",
       "    <tr>\n",
       "      <th>4</th>\n",
       "      <td>003G000001oeaVGIAY</td>\n",
       "      <td>Gerald Orre</td>\n",
       "      <td>Alumna/us</td>\n",
       "      <td>1971.0</td>\n",
       "      <td>158957</td>\n",
       "      <td>Bachelor of Science</td>\n",
       "      <td>1971.0</td>\n",
       "      <td>NaN</td>\n",
       "      <td>1971.0</td>\n",
       "      <td>Worcester Polytechnic Institute</td>\n",
       "      <td>...</td>\n",
       "      <td>NaN</td>\n",
       "      <td>NaN</td>\n",
       "      <td>NaN</td>\n",
       "      <td>NaN</td>\n",
       "      <td>Inactive</td>\n",
       "      <td>WPI Degree</td>\n",
       "      <td>Anthony McMahon</td>\n",
       "      <td>8/23/2018</td>\n",
       "      <td>Jeffrey Caglarcan</td>\n",
       "      <td>8/18/2019</td>\n",
       "    </tr>\n",
       "  </tbody>\n",
       "</table>\n",
       "<p>5 rows × 26 columns</p>\n",
       "</div>"
      ],
      "text/plain": [
       "  Contact: Case Safe ID Contact: Full Name  \\\n",
       "0    003G0000024bMwNIAU         Mark Korir   \n",
       "1    003G000001oerenIAA        Rebecca Ide   \n",
       "2    003G000001of21qIAA        Kevin Lynch   \n",
       "3    003G000001oeYxWIAU       Zareh Martin   \n",
       "4    003G000001oeaVGIAY        Gerald Orre   \n",
       "\n",
       "  Contact: Constituent Category (Primary)  Contact: Preferred Class Year  \\\n",
       "0                        Graduate Alumnus                         2017.0   \n",
       "1                               Alumna/us                         2012.0   \n",
       "2                               Alumna/us                         2018.0   \n",
       "3                               Alumna/us                         1940.0   \n",
       "4                               Alumna/us                         1971.0   \n",
       "\n",
       "   Education: Education History         Degree/Certificate  Degree Year  \\\n",
       "0                        120338  Master of Business Admin.       2014.0   \n",
       "1                        185152                 Non-Degree          NaN   \n",
       "2                        174184        Bachelor of Science       2017.0   \n",
       "3                        155692        Bachelor of Science       1940.0   \n",
       "4                        158957        Bachelor of Science       1971.0   \n",
       "\n",
       "   End Year  Graduation Year                 Institution Name  ... Minor #2  \\\n",
       "0       NaN           2014.0                Hodges University  ...      NaN   \n",
       "1       NaN              NaN         Becker College Worcester  ...      NaN   \n",
       "2       NaN           2017.0  Worcester Polytechnic Institute  ...      NaN   \n",
       "3       NaN           1940.0  Worcester Polytechnic Institute  ...      NaN   \n",
       "4       NaN           1971.0  Worcester Polytechnic Institute  ...      NaN   \n",
       "\n",
       "  Minor #2 Department Other Information Related to Degree Start Year  \\\n",
       "0                 NaN                                 NaN        NaN   \n",
       "1                 NaN                                 NaN        NaN   \n",
       "2                 NaN                                 NaN        NaN   \n",
       "3                 NaN                                 NaN        NaN   \n",
       "4                 NaN                                 NaN        NaN   \n",
       "\n",
       "  Student Status Education: Record Type Education: Created By  \\\n",
       "0            NaN         Non-WPI Degree       Anthony McMahon   \n",
       "1            NaN             WPI Degree              API-Only   \n",
       "2       Inactive             WPI Degree       Anthony McMahon   \n",
       "3       Inactive             WPI Degree       Anthony McMahon   \n",
       "4       Inactive             WPI Degree       Anthony McMahon   \n",
       "\n",
       "  Education: Created Date Education: Last Modified By  \\\n",
       "0               8/23/2018             Anthony McMahon   \n",
       "1               8/27/2018                    API-Only   \n",
       "2               8/23/2018           Jeffrey Caglarcan   \n",
       "3               8/23/2018           Jeffrey Caglarcan   \n",
       "4               8/23/2018           Jeffrey Caglarcan   \n",
       "\n",
       "   Education: Last Modified Date  \n",
       "0                      8/23/2018  \n",
       "1                      8/27/2018  \n",
       "2                      8/18/2019  \n",
       "3                      8/18/2019  \n",
       "4                      8/18/2019  \n",
       "\n",
       "[5 rows x 26 columns]"
      ]
     },
     "execution_count": 2,
     "metadata": {},
     "output_type": "execute_result"
    }
   ],
   "source": [
    "edu = pd.read_csv('alum-edu-hist.csv')\n",
    "edu.head()"
   ]
  },
  {
   "cell_type": "markdown",
   "id": "mature-facility",
   "metadata": {},
   "source": [
    "## Basic Filtering"
   ]
  },
  {
   "cell_type": "markdown",
   "id": "premium-mambo",
   "metadata": {},
   "source": [
    "### FSB + relevant data filtering"
   ]
  },
  {
   "cell_type": "markdown",
   "id": "rubber-creator",
   "metadata": {},
   "source": [
    "Only get people from FSB"
   ]
  },
  {
   "cell_type": "code",
   "execution_count": 3,
   "id": "working-korean",
   "metadata": {},
   "outputs": [
    {
     "data": {
      "text/html": [
       "<div>\n",
       "<style scoped>\n",
       "    .dataframe tbody tr th:only-of-type {\n",
       "        vertical-align: middle;\n",
       "    }\n",
       "\n",
       "    .dataframe tbody tr th {\n",
       "        vertical-align: top;\n",
       "    }\n",
       "\n",
       "    .dataframe thead th {\n",
       "        text-align: right;\n",
       "    }\n",
       "</style>\n",
       "<table border=\"1\" class=\"dataframe\">\n",
       "  <thead>\n",
       "    <tr style=\"text-align: right;\">\n",
       "      <th></th>\n",
       "      <th>Contact: Preferred Class Year</th>\n",
       "      <th>Education: Education History</th>\n",
       "      <th>Degree Year</th>\n",
       "      <th>End Year</th>\n",
       "      <th>Graduation Year</th>\n",
       "      <th>Start Year</th>\n",
       "    </tr>\n",
       "  </thead>\n",
       "  <tbody>\n",
       "    <tr>\n",
       "      <th>count</th>\n",
       "      <td>5803.000000</td>\n",
       "      <td>5803.000000</td>\n",
       "      <td>5770.000000</td>\n",
       "      <td>22.000000</td>\n",
       "      <td>5774.000000</td>\n",
       "      <td>437.000000</td>\n",
       "    </tr>\n",
       "    <tr>\n",
       "      <th>mean</th>\n",
       "      <td>2000.951749</td>\n",
       "      <td>131396.399104</td>\n",
       "      <td>2001.904333</td>\n",
       "      <td>2009.590909</td>\n",
       "      <td>2001.905092</td>\n",
       "      <td>2016.102975</td>\n",
       "    </tr>\n",
       "    <tr>\n",
       "      <th>std</th>\n",
       "      <td>16.453629</td>\n",
       "      <td>45366.817014</td>\n",
       "      <td>15.306705</td>\n",
       "      <td>9.969759</td>\n",
       "      <td>15.301768</td>\n",
       "      <td>3.832013</td>\n",
       "    </tr>\n",
       "    <tr>\n",
       "      <th>min</th>\n",
       "      <td>1910.000000</td>\n",
       "      <td>63486.000000</td>\n",
       "      <td>1910.000000</td>\n",
       "      <td>1982.000000</td>\n",
       "      <td>1910.000000</td>\n",
       "      <td>1978.000000</td>\n",
       "    </tr>\n",
       "    <tr>\n",
       "      <th>25%</th>\n",
       "      <td>1989.000000</td>\n",
       "      <td>77869.500000</td>\n",
       "      <td>1990.000000</td>\n",
       "      <td>2006.000000</td>\n",
       "      <td>1990.000000</td>\n",
       "      <td>2015.000000</td>\n",
       "    </tr>\n",
       "    <tr>\n",
       "      <th>50%</th>\n",
       "      <td>2005.000000</td>\n",
       "      <td>151943.000000</td>\n",
       "      <td>2006.000000</td>\n",
       "      <td>2013.000000</td>\n",
       "      <td>2006.000000</td>\n",
       "      <td>2016.000000</td>\n",
       "    </tr>\n",
       "    <tr>\n",
       "      <th>75%</th>\n",
       "      <td>2015.000000</td>\n",
       "      <td>171631.500000</td>\n",
       "      <td>2015.000000</td>\n",
       "      <td>2017.000000</td>\n",
       "      <td>2015.000000</td>\n",
       "      <td>2018.000000</td>\n",
       "    </tr>\n",
       "    <tr>\n",
       "      <th>max</th>\n",
       "      <td>2022.000000</td>\n",
       "      <td>189967.000000</td>\n",
       "      <td>2020.000000</td>\n",
       "      <td>2018.000000</td>\n",
       "      <td>2020.000000</td>\n",
       "      <td>2021.000000</td>\n",
       "    </tr>\n",
       "  </tbody>\n",
       "</table>\n",
       "</div>"
      ],
      "text/plain": [
       "       Contact: Preferred Class Year  Education: Education History  \\\n",
       "count                    5803.000000                   5803.000000   \n",
       "mean                     2000.951749                 131396.399104   \n",
       "std                        16.453629                  45366.817014   \n",
       "min                      1910.000000                  63486.000000   \n",
       "25%                      1989.000000                  77869.500000   \n",
       "50%                      2005.000000                 151943.000000   \n",
       "75%                      2015.000000                 171631.500000   \n",
       "max                      2022.000000                 189967.000000   \n",
       "\n",
       "       Degree Year     End Year  Graduation Year   Start Year  \n",
       "count  5770.000000    22.000000      5774.000000   437.000000  \n",
       "mean   2001.904333  2009.590909      2001.905092  2016.102975  \n",
       "std      15.306705     9.969759        15.301768     3.832013  \n",
       "min    1910.000000  1982.000000      1910.000000  1978.000000  \n",
       "25%    1990.000000  2006.000000      1990.000000  2015.000000  \n",
       "50%    2006.000000  2013.000000      2006.000000  2016.000000  \n",
       "75%    2015.000000  2017.000000      2015.000000  2018.000000  \n",
       "max    2020.000000  2018.000000      2020.000000  2021.000000  "
      ]
     },
     "execution_count": 3,
     "metadata": {},
     "output_type": "execute_result"
    }
   ],
   "source": [
    "bus = edu[(edu['Major #1 Department'] == 'Management') | (edu['Major #2 Department'] == 'Management') | (edu['Minor #1 Department'] == 'Management') | (edu['Minor #2 Department'] == 'Management')]\n",
    "bus.describe()"
   ]
  },
  {
   "cell_type": "markdown",
   "id": "great-entry",
   "metadata": {},
   "source": [
    "Select people in the last 50 years"
   ]
  },
  {
   "cell_type": "code",
   "execution_count": 4,
   "id": "closed-aside",
   "metadata": {},
   "outputs": [
    {
     "data": {
      "text/html": [
       "<div>\n",
       "<style scoped>\n",
       "    .dataframe tbody tr th:only-of-type {\n",
       "        vertical-align: middle;\n",
       "    }\n",
       "\n",
       "    .dataframe tbody tr th {\n",
       "        vertical-align: top;\n",
       "    }\n",
       "\n",
       "    .dataframe thead th {\n",
       "        text-align: right;\n",
       "    }\n",
       "</style>\n",
       "<table border=\"1\" class=\"dataframe\">\n",
       "  <thead>\n",
       "    <tr style=\"text-align: right;\">\n",
       "      <th></th>\n",
       "      <th>Contact: Preferred Class Year</th>\n",
       "      <th>Education: Education History</th>\n",
       "      <th>Degree Year</th>\n",
       "      <th>End Year</th>\n",
       "      <th>Graduation Year</th>\n",
       "      <th>Start Year</th>\n",
       "    </tr>\n",
       "  </thead>\n",
       "  <tbody>\n",
       "    <tr>\n",
       "      <th>count</th>\n",
       "      <td>5600.000000</td>\n",
       "      <td>5600.000000</td>\n",
       "      <td>5567.000000</td>\n",
       "      <td>22.000000</td>\n",
       "      <td>5571.000000</td>\n",
       "      <td>436.000000</td>\n",
       "    </tr>\n",
       "    <tr>\n",
       "      <th>mean</th>\n",
       "      <td>2002.565714</td>\n",
       "      <td>131886.924643</td>\n",
       "      <td>2003.212682</td>\n",
       "      <td>2009.590909</td>\n",
       "      <td>2003.212529</td>\n",
       "      <td>2016.103211</td>\n",
       "    </tr>\n",
       "    <tr>\n",
       "      <th>std</th>\n",
       "      <td>14.080420</td>\n",
       "      <td>45510.458390</td>\n",
       "      <td>13.639408</td>\n",
       "      <td>9.969759</td>\n",
       "      <td>13.634906</td>\n",
       "      <td>3.836412</td>\n",
       "    </tr>\n",
       "    <tr>\n",
       "      <th>min</th>\n",
       "      <td>1970.000000</td>\n",
       "      <td>63486.000000</td>\n",
       "      <td>1970.000000</td>\n",
       "      <td>1982.000000</td>\n",
       "      <td>1970.000000</td>\n",
       "      <td>1978.000000</td>\n",
       "    </tr>\n",
       "    <tr>\n",
       "      <th>25%</th>\n",
       "      <td>1991.000000</td>\n",
       "      <td>77586.750000</td>\n",
       "      <td>1992.000000</td>\n",
       "      <td>2006.000000</td>\n",
       "      <td>1992.000000</td>\n",
       "      <td>2015.000000</td>\n",
       "    </tr>\n",
       "    <tr>\n",
       "      <th>50%</th>\n",
       "      <td>2006.000000</td>\n",
       "      <td>152294.500000</td>\n",
       "      <td>2007.000000</td>\n",
       "      <td>2013.000000</td>\n",
       "      <td>2007.000000</td>\n",
       "      <td>2016.500000</td>\n",
       "    </tr>\n",
       "    <tr>\n",
       "      <th>75%</th>\n",
       "      <td>2015.000000</td>\n",
       "      <td>172001.250000</td>\n",
       "      <td>2015.000000</td>\n",
       "      <td>2017.000000</td>\n",
       "      <td>2015.000000</td>\n",
       "      <td>2018.000000</td>\n",
       "    </tr>\n",
       "    <tr>\n",
       "      <th>max</th>\n",
       "      <td>2020.000000</td>\n",
       "      <td>189967.000000</td>\n",
       "      <td>2020.000000</td>\n",
       "      <td>2018.000000</td>\n",
       "      <td>2020.000000</td>\n",
       "      <td>2021.000000</td>\n",
       "    </tr>\n",
       "  </tbody>\n",
       "</table>\n",
       "</div>"
      ],
      "text/plain": [
       "       Contact: Preferred Class Year  Education: Education History  \\\n",
       "count                    5600.000000                   5600.000000   \n",
       "mean                     2002.565714                 131886.924643   \n",
       "std                        14.080420                  45510.458390   \n",
       "min                      1970.000000                  63486.000000   \n",
       "25%                      1991.000000                  77586.750000   \n",
       "50%                      2006.000000                 152294.500000   \n",
       "75%                      2015.000000                 172001.250000   \n",
       "max                      2020.000000                 189967.000000   \n",
       "\n",
       "       Degree Year     End Year  Graduation Year   Start Year  \n",
       "count  5567.000000    22.000000      5571.000000   436.000000  \n",
       "mean   2003.212682  2009.590909      2003.212529  2016.103211  \n",
       "std      13.639408     9.969759        13.634906     3.836412  \n",
       "min    1970.000000  1982.000000      1970.000000  1978.000000  \n",
       "25%    1992.000000  2006.000000      1992.000000  2015.000000  \n",
       "50%    2007.000000  2013.000000      2007.000000  2016.500000  \n",
       "75%    2015.000000  2017.000000      2015.000000  2018.000000  \n",
       "max    2020.000000  2018.000000      2020.000000  2021.000000  "
      ]
     },
     "execution_count": 4,
     "metadata": {},
     "output_type": "execute_result"
    }
   ],
   "source": [
    "bus = bus[(bus['Contact: Preferred Class Year'] >= (2020 - 50)) & (bus['Contact: Preferred Class Year'] <= 2020)]\n",
    "bus.describe()"
   ]
  },
  {
   "cell_type": "raw",
   "id": "extended-semiconductor",
   "metadata": {},
   "source": [
    "Only get wpi alumni"
   ]
  },
  {
   "cell_type": "code",
   "execution_count": 5,
   "id": "transparent-certificate",
   "metadata": {},
   "outputs": [
    {
     "data": {
      "text/html": [
       "<div>\n",
       "<style scoped>\n",
       "    .dataframe tbody tr th:only-of-type {\n",
       "        vertical-align: middle;\n",
       "    }\n",
       "\n",
       "    .dataframe tbody tr th {\n",
       "        vertical-align: top;\n",
       "    }\n",
       "\n",
       "    .dataframe thead th {\n",
       "        text-align: right;\n",
       "    }\n",
       "</style>\n",
       "<table border=\"1\" class=\"dataframe\">\n",
       "  <thead>\n",
       "    <tr style=\"text-align: right;\">\n",
       "      <th></th>\n",
       "      <th>Contact: Preferred Class Year</th>\n",
       "      <th>Education: Education History</th>\n",
       "      <th>Degree Year</th>\n",
       "      <th>End Year</th>\n",
       "      <th>Graduation Year</th>\n",
       "      <th>Start Year</th>\n",
       "    </tr>\n",
       "  </thead>\n",
       "  <tbody>\n",
       "    <tr>\n",
       "      <th>count</th>\n",
       "      <td>5493.000000</td>\n",
       "      <td>5493.000000</td>\n",
       "      <td>5460.000000</td>\n",
       "      <td>15.000000</td>\n",
       "      <td>5464.000000</td>\n",
       "      <td>355.000000</td>\n",
       "    </tr>\n",
       "    <tr>\n",
       "      <th>mean</th>\n",
       "      <td>2002.262698</td>\n",
       "      <td>130873.111779</td>\n",
       "      <td>2003.009707</td>\n",
       "      <td>2010.933333</td>\n",
       "      <td>2003.009700</td>\n",
       "      <td>2016.230986</td>\n",
       "    </tr>\n",
       "    <tr>\n",
       "      <th>std</th>\n",
       "      <td>14.036901</td>\n",
       "      <td>45361.042109</td>\n",
       "      <td>13.674858</td>\n",
       "      <td>11.423451</td>\n",
       "      <td>13.670252</td>\n",
       "      <td>3.541944</td>\n",
       "    </tr>\n",
       "    <tr>\n",
       "      <th>min</th>\n",
       "      <td>1970.000000</td>\n",
       "      <td>63486.000000</td>\n",
       "      <td>1970.000000</td>\n",
       "      <td>1982.000000</td>\n",
       "      <td>1970.000000</td>\n",
       "      <td>1978.000000</td>\n",
       "    </tr>\n",
       "    <tr>\n",
       "      <th>25%</th>\n",
       "      <td>1990.000000</td>\n",
       "      <td>77004.000000</td>\n",
       "      <td>1991.000000</td>\n",
       "      <td>2009.500000</td>\n",
       "      <td>1991.000000</td>\n",
       "      <td>2015.000000</td>\n",
       "    </tr>\n",
       "    <tr>\n",
       "      <th>50%</th>\n",
       "      <td>2006.000000</td>\n",
       "      <td>151455.000000</td>\n",
       "      <td>2007.000000</td>\n",
       "      <td>2016.000000</td>\n",
       "      <td>2007.000000</td>\n",
       "      <td>2016.000000</td>\n",
       "    </tr>\n",
       "    <tr>\n",
       "      <th>75%</th>\n",
       "      <td>2014.000000</td>\n",
       "      <td>171233.000000</td>\n",
       "      <td>2015.000000</td>\n",
       "      <td>2017.500000</td>\n",
       "      <td>2015.000000</td>\n",
       "      <td>2018.000000</td>\n",
       "    </tr>\n",
       "    <tr>\n",
       "      <th>max</th>\n",
       "      <td>2020.000000</td>\n",
       "      <td>189967.000000</td>\n",
       "      <td>2020.000000</td>\n",
       "      <td>2018.000000</td>\n",
       "      <td>2020.000000</td>\n",
       "      <td>2021.000000</td>\n",
       "    </tr>\n",
       "  </tbody>\n",
       "</table>\n",
       "</div>"
      ],
      "text/plain": [
       "       Contact: Preferred Class Year  Education: Education History  \\\n",
       "count                    5493.000000                   5493.000000   \n",
       "mean                     2002.262698                 130873.111779   \n",
       "std                        14.036901                  45361.042109   \n",
       "min                      1970.000000                  63486.000000   \n",
       "25%                      1990.000000                  77004.000000   \n",
       "50%                      2006.000000                 151455.000000   \n",
       "75%                      2014.000000                 171233.000000   \n",
       "max                      2020.000000                 189967.000000   \n",
       "\n",
       "       Degree Year     End Year  Graduation Year   Start Year  \n",
       "count  5460.000000    15.000000      5464.000000   355.000000  \n",
       "mean   2003.009707  2010.933333      2003.009700  2016.230986  \n",
       "std      13.674858    11.423451        13.670252     3.541944  \n",
       "min    1970.000000  1982.000000      1970.000000  1978.000000  \n",
       "25%    1991.000000  2009.500000      1991.000000  2015.000000  \n",
       "50%    2007.000000  2016.000000      2007.000000  2016.000000  \n",
       "75%    2015.000000  2017.500000      2015.000000  2018.000000  \n",
       "max    2020.000000  2018.000000      2020.000000  2021.000000  "
      ]
     },
     "execution_count": 5,
     "metadata": {},
     "output_type": "execute_result"
    }
   ],
   "source": [
    "bus = bus[bus['Education: Record Type'] == 'WPI Degree']\n",
    "bus.describe()"
   ]
  },
  {
   "cell_type": "markdown",
   "id": "supposed-smith",
   "metadata": {},
   "source": [
    "Ensure that only relevant degrees are being picked"
   ]
  },
  {
   "cell_type": "code",
   "execution_count": 6,
   "id": "amended-wichita",
   "metadata": {},
   "outputs": [
    {
     "data": {
      "text/plain": [
       "array(['Bachelor of Science', 'Master of Science',\n",
       "       'Master of Business Admin.', 'Master of Science in Mgmt.',\n",
       "       'Certificate Program', 'Bachelor of Arts', 'Graduate Certificate',\n",
       "       'Advanced Certificate', 'Doctor of Philosophy',\n",
       "       'Associate Degree in Science', 'Master of Engineering'],\n",
       "      dtype=object)"
      ]
     },
     "execution_count": 6,
     "metadata": {},
     "output_type": "execute_result"
    }
   ],
   "source": [
    "bus['Degree/Certificate'].unique()"
   ]
  },
  {
   "cell_type": "code",
   "execution_count": 7,
   "id": "personal-lobby",
   "metadata": {},
   "outputs": [
    {
     "data": {
      "text/html": [
       "<div>\n",
       "<style scoped>\n",
       "    .dataframe tbody tr th:only-of-type {\n",
       "        vertical-align: middle;\n",
       "    }\n",
       "\n",
       "    .dataframe tbody tr th {\n",
       "        vertical-align: top;\n",
       "    }\n",
       "\n",
       "    .dataframe thead th {\n",
       "        text-align: right;\n",
       "    }\n",
       "</style>\n",
       "<table border=\"1\" class=\"dataframe\">\n",
       "  <thead>\n",
       "    <tr style=\"text-align: right;\">\n",
       "      <th></th>\n",
       "      <th>Contact: Preferred Class Year</th>\n",
       "      <th>Education: Education History</th>\n",
       "      <th>Degree Year</th>\n",
       "      <th>End Year</th>\n",
       "      <th>Graduation Year</th>\n",
       "      <th>Start Year</th>\n",
       "    </tr>\n",
       "  </thead>\n",
       "  <tbody>\n",
       "    <tr>\n",
       "      <th>count</th>\n",
       "      <td>5448.000000</td>\n",
       "      <td>5448.000000</td>\n",
       "      <td>5420.000000</td>\n",
       "      <td>12.000000</td>\n",
       "      <td>5424.000000</td>\n",
       "      <td>347.000000</td>\n",
       "    </tr>\n",
       "    <tr>\n",
       "      <th>mean</th>\n",
       "      <td>2002.310940</td>\n",
       "      <td>130839.861233</td>\n",
       "      <td>2003.021771</td>\n",
       "      <td>2011.916667</td>\n",
       "      <td>2003.021755</td>\n",
       "      <td>2016.348703</td>\n",
       "    </tr>\n",
       "    <tr>\n",
       "      <th>std</th>\n",
       "      <td>14.000415</td>\n",
       "      <td>45341.470551</td>\n",
       "      <td>13.677024</td>\n",
       "      <td>10.561150</td>\n",
       "      <td>13.672383</td>\n",
       "      <td>3.119400</td>\n",
       "    </tr>\n",
       "    <tr>\n",
       "      <th>min</th>\n",
       "      <td>1970.000000</td>\n",
       "      <td>63486.000000</td>\n",
       "      <td>1970.000000</td>\n",
       "      <td>1982.000000</td>\n",
       "      <td>1970.000000</td>\n",
       "      <td>1978.000000</td>\n",
       "    </tr>\n",
       "    <tr>\n",
       "      <th>25%</th>\n",
       "      <td>1990.000000</td>\n",
       "      <td>77002.250000</td>\n",
       "      <td>1991.000000</td>\n",
       "      <td>2011.250000</td>\n",
       "      <td>1991.000000</td>\n",
       "      <td>2015.000000</td>\n",
       "    </tr>\n",
       "    <tr>\n",
       "      <th>50%</th>\n",
       "      <td>2006.000000</td>\n",
       "      <td>151446.500000</td>\n",
       "      <td>2007.000000</td>\n",
       "      <td>2016.500000</td>\n",
       "      <td>2007.000000</td>\n",
       "      <td>2016.000000</td>\n",
       "    </tr>\n",
       "    <tr>\n",
       "      <th>75%</th>\n",
       "      <td>2014.000000</td>\n",
       "      <td>171178.250000</td>\n",
       "      <td>2015.000000</td>\n",
       "      <td>2018.000000</td>\n",
       "      <td>2015.000000</td>\n",
       "      <td>2018.000000</td>\n",
       "    </tr>\n",
       "    <tr>\n",
       "      <th>max</th>\n",
       "      <td>2020.000000</td>\n",
       "      <td>189967.000000</td>\n",
       "      <td>2020.000000</td>\n",
       "      <td>2018.000000</td>\n",
       "      <td>2020.000000</td>\n",
       "      <td>2021.000000</td>\n",
       "    </tr>\n",
       "  </tbody>\n",
       "</table>\n",
       "</div>"
      ],
      "text/plain": [
       "       Contact: Preferred Class Year  Education: Education History  \\\n",
       "count                    5448.000000                   5448.000000   \n",
       "mean                     2002.310940                 130839.861233   \n",
       "std                        14.000415                  45341.470551   \n",
       "min                      1970.000000                  63486.000000   \n",
       "25%                      1990.000000                  77002.250000   \n",
       "50%                      2006.000000                 151446.500000   \n",
       "75%                      2014.000000                 171178.250000   \n",
       "max                      2020.000000                 189967.000000   \n",
       "\n",
       "       Degree Year     End Year  Graduation Year   Start Year  \n",
       "count  5420.000000    12.000000      5424.000000   347.000000  \n",
       "mean   2003.021771  2011.916667      2003.021755  2016.348703  \n",
       "std      13.677024    10.561150        13.672383     3.119400  \n",
       "min    1970.000000  1982.000000      1970.000000  1978.000000  \n",
       "25%    1991.000000  2011.250000      1991.000000  2015.000000  \n",
       "50%    2007.000000  2016.500000      2007.000000  2016.000000  \n",
       "75%    2015.000000  2018.000000      2015.000000  2018.000000  \n",
       "max    2020.000000  2018.000000      2020.000000  2021.000000  "
      ]
     },
     "execution_count": 7,
     "metadata": {},
     "output_type": "execute_result"
    }
   ],
   "source": [
    "accepted_degrees = ['Bachelor of Science', 'Master of Science',\n",
    "       'Master of Business Admin.', 'Master of Science in Mgmt.',\n",
    "       'Bachelor of Arts']\n",
    "accept_regex = '|'.join(accepted_degrees)\n",
    "bus = bus[bus['Degree/Certificate'].str.contains(accept_regex)]\n",
    "bus.describe()"
   ]
  },
  {
   "cell_type": "markdown",
   "id": "liquid-dining",
   "metadata": {},
   "source": [
    "### Uniqueness"
   ]
  },
  {
   "cell_type": "markdown",
   "id": "deluxe-saint",
   "metadata": {},
   "source": [
    "Seems that we have duplicate names"
   ]
  },
  {
   "cell_type": "code",
   "execution_count": 8,
   "id": "measured-planning",
   "metadata": {},
   "outputs": [
    {
     "data": {
      "text/plain": [
       "5202"
      ]
     },
     "execution_count": 8,
     "metadata": {},
     "output_type": "execute_result"
    }
   ],
   "source": [
    "bus['Contact: Full Name'].nunique()"
   ]
  },
  {
   "cell_type": "markdown",
   "id": "approximate-cutting",
   "metadata": {},
   "source": [
    "Duplicated names are for multiple degrees; should be fine to keep them in"
   ]
  },
  {
   "cell_type": "code",
   "execution_count": 9,
   "id": "responsible-angle",
   "metadata": {},
   "outputs": [
    {
     "data": {
      "text/html": [
       "<div>\n",
       "<style scoped>\n",
       "    .dataframe tbody tr th:only-of-type {\n",
       "        vertical-align: middle;\n",
       "    }\n",
       "\n",
       "    .dataframe tbody tr th {\n",
       "        vertical-align: top;\n",
       "    }\n",
       "\n",
       "    .dataframe thead th {\n",
       "        text-align: right;\n",
       "    }\n",
       "</style>\n",
       "<table border=\"1\" class=\"dataframe\">\n",
       "  <thead>\n",
       "    <tr style=\"text-align: right;\">\n",
       "      <th></th>\n",
       "      <th>Contact: Case Safe ID</th>\n",
       "      <th>Contact: Full Name</th>\n",
       "      <th>Contact: Constituent Category (Primary)</th>\n",
       "      <th>Contact: Preferred Class Year</th>\n",
       "      <th>Education: Education History</th>\n",
       "      <th>Degree/Certificate</th>\n",
       "      <th>Degree Year</th>\n",
       "      <th>End Year</th>\n",
       "      <th>Graduation Year</th>\n",
       "      <th>Institution Name</th>\n",
       "      <th>...</th>\n",
       "      <th>Minor #2</th>\n",
       "      <th>Minor #2 Department</th>\n",
       "      <th>Other Information Related to Degree</th>\n",
       "      <th>Start Year</th>\n",
       "      <th>Student Status</th>\n",
       "      <th>Education: Record Type</th>\n",
       "      <th>Education: Created By</th>\n",
       "      <th>Education: Created Date</th>\n",
       "      <th>Education: Last Modified By</th>\n",
       "      <th>Education: Last Modified Date</th>\n",
       "    </tr>\n",
       "  </thead>\n",
       "  <tbody>\n",
       "    <tr>\n",
       "      <th>24890</th>\n",
       "      <td>003G000001rCILmIAO</td>\n",
       "      <td>Akshay Rao</td>\n",
       "      <td>Alumna/us</td>\n",
       "      <td>2018.0</td>\n",
       "      <td>175127</td>\n",
       "      <td>Bachelor of Science</td>\n",
       "      <td>2018.0</td>\n",
       "      <td>NaN</td>\n",
       "      <td>2018.0</td>\n",
       "      <td>Worcester Polytechnic Institute</td>\n",
       "      <td>...</td>\n",
       "      <td>NaN</td>\n",
       "      <td>NaN</td>\n",
       "      <td>NaN</td>\n",
       "      <td>NaN</td>\n",
       "      <td>Inactive</td>\n",
       "      <td>WPI Degree</td>\n",
       "      <td>Anthony McMahon</td>\n",
       "      <td>8/23/2018</td>\n",
       "      <td>Jeffrey Caglarcan</td>\n",
       "      <td>8/18/2019</td>\n",
       "    </tr>\n",
       "    <tr>\n",
       "      <th>69193</th>\n",
       "      <td>003G000001rCILmIAO</td>\n",
       "      <td>Akshay Rao</td>\n",
       "      <td>Alumna/us</td>\n",
       "      <td>2018.0</td>\n",
       "      <td>189556</td>\n",
       "      <td>Master of Science</td>\n",
       "      <td>NaN</td>\n",
       "      <td>NaN</td>\n",
       "      <td>NaN</td>\n",
       "      <td>Worcester Polytechnic Institute</td>\n",
       "      <td>...</td>\n",
       "      <td>NaN</td>\n",
       "      <td>NaN</td>\n",
       "      <td>NaN</td>\n",
       "      <td>2018.0</td>\n",
       "      <td>Never Enrolled</td>\n",
       "      <td>WPI Degree</td>\n",
       "      <td>API-Only</td>\n",
       "      <td>10/28/2019</td>\n",
       "      <td>API-Only</td>\n",
       "      <td>11/11/2019</td>\n",
       "    </tr>\n",
       "  </tbody>\n",
       "</table>\n",
       "<p>2 rows × 26 columns</p>\n",
       "</div>"
      ],
      "text/plain": [
       "      Contact: Case Safe ID Contact: Full Name  \\\n",
       "24890    003G000001rCILmIAO         Akshay Rao   \n",
       "69193    003G000001rCILmIAO         Akshay Rao   \n",
       "\n",
       "      Contact: Constituent Category (Primary)  Contact: Preferred Class Year  \\\n",
       "24890                               Alumna/us                         2018.0   \n",
       "69193                               Alumna/us                         2018.0   \n",
       "\n",
       "       Education: Education History   Degree/Certificate  Degree Year  \\\n",
       "24890                        175127  Bachelor of Science       2018.0   \n",
       "69193                        189556    Master of Science          NaN   \n",
       "\n",
       "       End Year  Graduation Year                 Institution Name  ...  \\\n",
       "24890       NaN           2018.0  Worcester Polytechnic Institute  ...   \n",
       "69193       NaN              NaN  Worcester Polytechnic Institute  ...   \n",
       "\n",
       "      Minor #2 Minor #2 Department Other Information Related to Degree  \\\n",
       "24890      NaN                 NaN                                 NaN   \n",
       "69193      NaN                 NaN                                 NaN   \n",
       "\n",
       "      Start Year  Student Status Education: Record Type Education: Created By  \\\n",
       "24890        NaN        Inactive             WPI Degree       Anthony McMahon   \n",
       "69193     2018.0  Never Enrolled             WPI Degree              API-Only   \n",
       "\n",
       "      Education: Created Date Education: Last Modified By  \\\n",
       "24890               8/23/2018           Jeffrey Caglarcan   \n",
       "69193              10/28/2019                    API-Only   \n",
       "\n",
       "       Education: Last Modified Date  \n",
       "24890                      8/18/2019  \n",
       "69193                     11/11/2019  \n",
       "\n",
       "[2 rows x 26 columns]"
      ]
     },
     "execution_count": 9,
     "metadata": {},
     "output_type": "execute_result"
    }
   ],
   "source": [
    "bus[bus['Contact: Full Name'] == 'Akshay Rao']"
   ]
  },
  {
   "cell_type": "markdown",
   "id": "mature-reservoir",
   "metadata": {},
   "source": [
    "## Generate final list of alumni"
   ]
  },
  {
   "cell_type": "code",
   "execution_count": 10,
   "id": "cultural-glenn",
   "metadata": {},
   "outputs": [
    {
     "data": {
      "text/plain": [
       "[\"Donald O'Brien\",\n",
       " 'Shanel Chisholm',\n",
       " 'Kristen (Garza) Reader',\n",
       " 'Matthew Kewriga',\n",
       " 'Gregory Dalpe',\n",
       " 'Terra Peckskamp',\n",
       " 'Victoria Richardson',\n",
       " 'Manqi Guo',\n",
       " 'Shruti Adhav',\n",
       " 'Aditi Prabhudesai']"
      ]
     },
     "execution_count": 10,
     "metadata": {},
     "output_type": "execute_result"
    }
   ],
   "source": [
    "names = list(bus['Contact: Full Name'].unique())\n",
    "names[:10]"
   ]
  },
  {
   "cell_type": "markdown",
   "id": "eleven-cooper",
   "metadata": {},
   "source": [
    "Write to a file"
   ]
  },
  {
   "cell_type": "code",
   "execution_count": 11,
   "id": "beginning-spectacular",
   "metadata": {},
   "outputs": [],
   "source": [
    "with open('names.json', 'w') as fh:\n",
    "    json.dump(names, fh)"
   ]
  },
  {
   "cell_type": "markdown",
   "id": "labeled-bottle",
   "metadata": {},
   "source": [
    "# WPI Names to LinkedIn URLs"
   ]
  },
  {
   "cell_type": "markdown",
   "id": "alternative-science",
   "metadata": {},
   "source": [
    "## Imports"
   ]
  },
  {
   "cell_type": "code",
   "execution_count": 12,
   "id": "general-diversity",
   "metadata": {},
   "outputs": [],
   "source": [
    "from googleapiclient.discovery import build\n",
    "from tqdm import tqdm"
   ]
  },
  {
   "cell_type": "markdown",
   "id": "perfect-reunion",
   "metadata": {},
   "source": [
    "Enable tqdm pandas mode"
   ]
  },
  {
   "cell_type": "code",
   "execution_count": 13,
   "id": "stainless-wrapping",
   "metadata": {},
   "outputs": [],
   "source": [
    "# tqdm.pandas()"
   ]
  },
  {
   "cell_type": "markdown",
   "id": "vital-stone",
   "metadata": {},
   "source": [
    "## Create Client"
   ]
  },
  {
   "cell_type": "code",
   "execution_count": 2,
   "id": "exterior-municipality",
   "metadata": {},
   "outputs": [
    {
     "output_type": "execute_result",
     "data": {
      "text/plain": [
       "''"
      ]
     },
     "metadata": {},
     "execution_count": 2
    }
   ],
   "source": [
    "api_key = input('Input your developer key: ')\n",
    "api_key"
   ]
  },
  {
   "cell_type": "code",
   "execution_count": 15,
   "id": "deluxe-circular",
   "metadata": {},
   "outputs": [
    {
     "name": "stdin",
     "output_type": "stream",
     "text": [
      "Input your engine ID:  2b3406adf5aac7e25\n"
     ]
    },
    {
     "data": {
      "text/plain": [
       "'2b3406adf5aac7e25'"
      ]
     },
     "execution_count": 15,
     "metadata": {},
     "output_type": "execute_result"
    }
   ],
   "source": [
    "engine_id = input('Input your engine ID: ')\n",
    "engine_id"
   ]
  },
  {
   "cell_type": "code",
   "execution_count": 16,
   "id": "rotary-python",
   "metadata": {},
   "outputs": [],
   "source": [
    "service = build('customsearch', 'v1', developerKey=api_key)"
   ]
  },
  {
   "cell_type": "markdown",
   "id": "decent-casino",
   "metadata": {},
   "source": [
    "## Create Mapping"
   ]
  },
  {
   "cell_type": "markdown",
   "id": "sophisticated-disability",
   "metadata": {},
   "source": [
    "Create search query function"
   ]
  },
  {
   "cell_type": "code",
   "execution_count": 17,
   "id": "hired-institution",
   "metadata": {},
   "outputs": [],
   "source": [
    "def get_url(row):\n",
    "    name = row['Contact: Full Name']    \n",
    "    res = service.cse().siterestrict().list(\n",
    "       q=f'-intitle:profiles {name}', cx=engine_id, num=1,\n",
    "       exactTerms='Worcester Polytechnic Institute').execute()\n",
    "#     res = service.cse().list(\n",
    "#         q=f'-intitle:profiles {name}', cx=engine_id, num=1,\n",
    "#         exactTerms='Worcester Polytechnic Institute').execute()\n",
    "    if res and 'items' in res:\n",
    "        return res['items'][0]['link']"
   ]
  },
  {
   "cell_type": "markdown",
   "id": "surgical-underwear",
   "metadata": {},
   "source": [
    "Reduce the size until we have the final funds"
   ]
  },
  {
   "cell_type": "code",
   "execution_count": 21,
   "id": "coral-context",
   "metadata": {},
   "outputs": [],
   "source": [
    "#limit = 99\n",
    "#subset = bus[:limit]\n",
    "subset = bus"
   ]
  },
  {
   "cell_type": "markdown",
   "id": "accurate-discussion",
   "metadata": {},
   "source": [
    "Generate all of the urls"
   ]
  },
  {
   "cell_type": "code",
   "execution_count": 23,
   "id": "endless-cream",
   "metadata": {},
   "outputs": [
    {
     "name": "stderr",
     "output_type": "stream",
     "text": [
      "100%|██████████| 5448/5448 [1:31:13<00:00,  1.00s/it]\n"
     ]
    }
   ],
   "source": [
    "start_time = time.time()\n",
    "cnt = 0\n",
    "subset['url'] = None\n",
    "for _, row in tqdm(subset.iterrows(), total=subset.shape[0]):\n",
    "    cnt += 1\n",
    "    subset['url'].iloc[cnt-1] = get_url(row)\n",
    "    time.sleep(0.6)\n",
    "        \n",
    "    if cnt % 250 == 0:\n",
    "        subset.to_csv('checkpoints/urls-{}.csv'.format(cnt), index=False)"
   ]
  },
  {
   "cell_type": "code",
   "execution_count": 24,
   "id": "bibliographic-cornell",
   "metadata": {},
   "outputs": [
    {
     "data": {
      "text/html": [
       "<div>\n",
       "<style scoped>\n",
       "    .dataframe tbody tr th:only-of-type {\n",
       "        vertical-align: middle;\n",
       "    }\n",
       "\n",
       "    .dataframe tbody tr th {\n",
       "        vertical-align: top;\n",
       "    }\n",
       "\n",
       "    .dataframe thead th {\n",
       "        text-align: right;\n",
       "    }\n",
       "</style>\n",
       "<table border=\"1\" class=\"dataframe\">\n",
       "  <thead>\n",
       "    <tr style=\"text-align: right;\">\n",
       "      <th></th>\n",
       "      <th>Contact: Case Safe ID</th>\n",
       "      <th>Contact: Full Name</th>\n",
       "      <th>Contact: Constituent Category (Primary)</th>\n",
       "      <th>Contact: Preferred Class Year</th>\n",
       "      <th>Education: Education History</th>\n",
       "      <th>Degree/Certificate</th>\n",
       "      <th>Degree Year</th>\n",
       "      <th>End Year</th>\n",
       "      <th>Graduation Year</th>\n",
       "      <th>Institution Name</th>\n",
       "      <th>...</th>\n",
       "      <th>Minor #2 Department</th>\n",
       "      <th>Other Information Related to Degree</th>\n",
       "      <th>Start Year</th>\n",
       "      <th>Student Status</th>\n",
       "      <th>Education: Record Type</th>\n",
       "      <th>Education: Created By</th>\n",
       "      <th>Education: Created Date</th>\n",
       "      <th>Education: Last Modified By</th>\n",
       "      <th>Education: Last Modified Date</th>\n",
       "      <th>url</th>\n",
       "    </tr>\n",
       "  </thead>\n",
       "  <tbody>\n",
       "    <tr>\n",
       "      <th>18</th>\n",
       "      <td>003G000001oeaVEIAY</td>\n",
       "      <td>Donald O'Brien</td>\n",
       "      <td>Alumna/us</td>\n",
       "      <td>1971.0</td>\n",
       "      <td>158955</td>\n",
       "      <td>Bachelor of Science</td>\n",
       "      <td>1971.0</td>\n",
       "      <td>NaN</td>\n",
       "      <td>1971.0</td>\n",
       "      <td>Worcester Polytechnic Institute</td>\n",
       "      <td>...</td>\n",
       "      <td>NaN</td>\n",
       "      <td>NaN</td>\n",
       "      <td>NaN</td>\n",
       "      <td>Inactive</td>\n",
       "      <td>WPI Degree</td>\n",
       "      <td>Anthony McMahon</td>\n",
       "      <td>8/23/2018</td>\n",
       "      <td>Jeffrey Caglarcan</td>\n",
       "      <td>8/18/2019</td>\n",
       "      <td>https://www.linkedin.com/in/donald-ganim-ii-md...</td>\n",
       "    </tr>\n",
       "    <tr>\n",
       "      <th>27</th>\n",
       "      <td>003G000001of290IAA</td>\n",
       "      <td>Shanel Chisholm</td>\n",
       "      <td>Alumna/us</td>\n",
       "      <td>2017.0</td>\n",
       "      <td>174276</td>\n",
       "      <td>Bachelor of Science</td>\n",
       "      <td>2017.0</td>\n",
       "      <td>NaN</td>\n",
       "      <td>2017.0</td>\n",
       "      <td>Worcester Polytechnic Institute</td>\n",
       "      <td>...</td>\n",
       "      <td>NaN</td>\n",
       "      <td>NaN</td>\n",
       "      <td>NaN</td>\n",
       "      <td>Inactive due to graduation</td>\n",
       "      <td>WPI Degree</td>\n",
       "      <td>Anthony McMahon</td>\n",
       "      <td>8/23/2018</td>\n",
       "      <td>Jeffrey Caglarcan</td>\n",
       "      <td>8/18/2019</td>\n",
       "      <td>https://www.linkedin.com/in/shanel-chisholm-06...</td>\n",
       "    </tr>\n",
       "    <tr>\n",
       "      <th>51</th>\n",
       "      <td>003G000001oerTlIAI</td>\n",
       "      <td>Kristen (Garza) Reader</td>\n",
       "      <td>Alumna/us</td>\n",
       "      <td>2011.0</td>\n",
       "      <td>166709</td>\n",
       "      <td>Bachelor of Science</td>\n",
       "      <td>2011.0</td>\n",
       "      <td>NaN</td>\n",
       "      <td>2011.0</td>\n",
       "      <td>Worcester Polytechnic Institute</td>\n",
       "      <td>...</td>\n",
       "      <td>NaN</td>\n",
       "      <td>NaN</td>\n",
       "      <td>NaN</td>\n",
       "      <td>Inactive due to graduation</td>\n",
       "      <td>WPI Degree</td>\n",
       "      <td>Anthony McMahon</td>\n",
       "      <td>8/23/2018</td>\n",
       "      <td>Jeffrey Caglarcan</td>\n",
       "      <td>8/18/2019</td>\n",
       "      <td>https://www.linkedin.com/in/garzakristen</td>\n",
       "    </tr>\n",
       "    <tr>\n",
       "      <th>68</th>\n",
       "      <td>003G000001oejSQIAY</td>\n",
       "      <td>Matthew Kewriga</td>\n",
       "      <td>Alumna/us</td>\n",
       "      <td>2000.0</td>\n",
       "      <td>154481</td>\n",
       "      <td>Bachelor of Science</td>\n",
       "      <td>2000.0</td>\n",
       "      <td>NaN</td>\n",
       "      <td>2000.0</td>\n",
       "      <td>Worcester Polytechnic Institute</td>\n",
       "      <td>...</td>\n",
       "      <td>NaN</td>\n",
       "      <td>NaN</td>\n",
       "      <td>NaN</td>\n",
       "      <td>Inactive due to graduation</td>\n",
       "      <td>WPI Degree</td>\n",
       "      <td>Anthony McMahon</td>\n",
       "      <td>8/23/2018</td>\n",
       "      <td>Jeffrey Caglarcan</td>\n",
       "      <td>8/18/2019</td>\n",
       "      <td>https://www.linkedin.com/in/matthew-w-kewriga-...</td>\n",
       "    </tr>\n",
       "    <tr>\n",
       "      <th>72</th>\n",
       "      <td>003G000001oerTgIAI</td>\n",
       "      <td>Gregory Dalpe</td>\n",
       "      <td>Graduate Alumnus</td>\n",
       "      <td>2011.0</td>\n",
       "      <td>166706</td>\n",
       "      <td>Master of Science</td>\n",
       "      <td>2012.0</td>\n",
       "      <td>NaN</td>\n",
       "      <td>2012.0</td>\n",
       "      <td>Worcester Polytechnic Institute</td>\n",
       "      <td>...</td>\n",
       "      <td>NaN</td>\n",
       "      <td>NaN</td>\n",
       "      <td>NaN</td>\n",
       "      <td>Inactive due to graduation</td>\n",
       "      <td>WPI Degree</td>\n",
       "      <td>Anthony McMahon</td>\n",
       "      <td>8/23/2018</td>\n",
       "      <td>Jeffrey Caglarcan</td>\n",
       "      <td>8/18/2019</td>\n",
       "      <td>https://www.linkedin.com/in/gregorydalpe</td>\n",
       "    </tr>\n",
       "  </tbody>\n",
       "</table>\n",
       "<p>5 rows × 27 columns</p>\n",
       "</div>"
      ],
      "text/plain": [
       "   Contact: Case Safe ID      Contact: Full Name  \\\n",
       "18    003G000001oeaVEIAY          Donald O'Brien   \n",
       "27    003G000001of290IAA         Shanel Chisholm   \n",
       "51    003G000001oerTlIAI  Kristen (Garza) Reader   \n",
       "68    003G000001oejSQIAY         Matthew Kewriga   \n",
       "72    003G000001oerTgIAI           Gregory Dalpe   \n",
       "\n",
       "   Contact: Constituent Category (Primary)  Contact: Preferred Class Year  \\\n",
       "18                               Alumna/us                         1971.0   \n",
       "27                               Alumna/us                         2017.0   \n",
       "51                               Alumna/us                         2011.0   \n",
       "68                               Alumna/us                         2000.0   \n",
       "72                        Graduate Alumnus                         2011.0   \n",
       "\n",
       "    Education: Education History   Degree/Certificate  Degree Year  End Year  \\\n",
       "18                        158955  Bachelor of Science       1971.0       NaN   \n",
       "27                        174276  Bachelor of Science       2017.0       NaN   \n",
       "51                        166709  Bachelor of Science       2011.0       NaN   \n",
       "68                        154481  Bachelor of Science       2000.0       NaN   \n",
       "72                        166706    Master of Science       2012.0       NaN   \n",
       "\n",
       "    Graduation Year                 Institution Name  ... Minor #2 Department  \\\n",
       "18           1971.0  Worcester Polytechnic Institute  ...                 NaN   \n",
       "27           2017.0  Worcester Polytechnic Institute  ...                 NaN   \n",
       "51           2011.0  Worcester Polytechnic Institute  ...                 NaN   \n",
       "68           2000.0  Worcester Polytechnic Institute  ...                 NaN   \n",
       "72           2012.0  Worcester Polytechnic Institute  ...                 NaN   \n",
       "\n",
       "   Other Information Related to Degree Start Year              Student Status  \\\n",
       "18                                 NaN        NaN                    Inactive   \n",
       "27                                 NaN        NaN  Inactive due to graduation   \n",
       "51                                 NaN        NaN  Inactive due to graduation   \n",
       "68                                 NaN        NaN  Inactive due to graduation   \n",
       "72                                 NaN        NaN  Inactive due to graduation   \n",
       "\n",
       "   Education: Record Type Education: Created By Education: Created Date  \\\n",
       "18             WPI Degree       Anthony McMahon               8/23/2018   \n",
       "27             WPI Degree       Anthony McMahon               8/23/2018   \n",
       "51             WPI Degree       Anthony McMahon               8/23/2018   \n",
       "68             WPI Degree       Anthony McMahon               8/23/2018   \n",
       "72             WPI Degree       Anthony McMahon               8/23/2018   \n",
       "\n",
       "   Education: Last Modified By Education: Last Modified Date  \\\n",
       "18           Jeffrey Caglarcan                     8/18/2019   \n",
       "27           Jeffrey Caglarcan                     8/18/2019   \n",
       "51           Jeffrey Caglarcan                     8/18/2019   \n",
       "68           Jeffrey Caglarcan                     8/18/2019   \n",
       "72           Jeffrey Caglarcan                     8/18/2019   \n",
       "\n",
       "                                                  url  \n",
       "18  https://www.linkedin.com/in/donald-ganim-ii-md...  \n",
       "27  https://www.linkedin.com/in/shanel-chisholm-06...  \n",
       "51           https://www.linkedin.com/in/garzakristen  \n",
       "68  https://www.linkedin.com/in/matthew-w-kewriga-...  \n",
       "72           https://www.linkedin.com/in/gregorydalpe  \n",
       "\n",
       "[5 rows x 27 columns]"
      ]
     },
     "execution_count": 24,
     "metadata": {},
     "output_type": "execute_result"
    }
   ],
   "source": [
    "subset.head()"
   ]
  },
  {
   "cell_type": "markdown",
   "id": "competent-nigeria",
   "metadata": {},
   "source": [
    "Write to a file just in case"
   ]
  },
  {
   "cell_type": "code",
   "execution_count": 25,
   "id": "direct-wayne",
   "metadata": {},
   "outputs": [],
   "source": [
    "subset.to_csv('subset.csv', index=False)"
   ]
  },
  {
   "cell_type": "markdown",
   "id": "accessible-electron",
   "metadata": {},
   "source": [
    "# Scrape LinkedIn"
   ]
  },
  {
   "cell_type": "code",
   "execution_count": null,
   "id": "indian-landscape",
   "metadata": {},
   "outputs": [],
   "source": [
    "subset = subset[:50]"
   ]
  },
  {
   "cell_type": "markdown",
   "id": "overhead-tunisia",
   "metadata": {},
   "source": [
    "Load scraper function"
   ]
  },
  {
   "cell_type": "code",
   "execution_count": null,
   "id": "danish-sound",
   "metadata": {},
   "outputs": [],
   "source": [
    "run scrape/scrape_to_json.py"
   ]
  },
  {
   "cell_type": "markdown",
   "id": "synthetic-young",
   "metadata": {},
   "source": [
    "Scrape Linkedin"
   ]
  },
  {
   "cell_type": "code",
   "execution_count": null,
   "id": "round-biotechnology",
   "metadata": {},
   "outputs": [],
   "source": [
    "scrapped = subset[subset['url'].notna()]['url'].progress_apply(scrape)"
   ]
  },
  {
   "cell_type": "code",
   "execution_count": null,
   "id": "aggregate-ferry",
   "metadata": {},
   "outputs": [],
   "source": [
    "scrapped"
   ]
  },
  {
   "cell_type": "markdown",
   "id": "collective-corporation",
   "metadata": {},
   "source": [
    "Save raw data to a file"
   ]
  },
  {
   "cell_type": "code",
   "execution_count": null,
   "id": "monetary-right",
   "metadata": {},
   "outputs": [],
   "source": [
    "with open('scrapped.json', 'w') as fh:\n",
    "    fh.write(json.dumps(list(scrapped)))"
   ]
  },
  {
   "cell_type": "markdown",
   "id": "otherwise-haven",
   "metadata": {},
   "source": [
    "# Join and Combine Scraped and Internal Data"
   ]
  },
  {
   "cell_type": "code",
   "execution_count": null,
   "id": "patient-orleans",
   "metadata": {
    "scrolled": true,
    "tags": []
   },
   "outputs": [],
   "source": [
    "scrapped.iloc[1]"
   ]
  },
  {
   "cell_type": "markdown",
   "id": "refined-degree",
   "metadata": {},
   "source": [
    "## High Level Data Cleaning"
   ]
  },
  {
   "cell_type": "markdown",
   "id": "speaking-withdrawal",
   "metadata": {},
   "source": [
    "### Fix year / dates\n",
    "People sometimes don't include the month in their profiles"
   ]
  },
  {
   "cell_type": "code",
   "execution_count": null,
   "id": "attempted-jackson",
   "metadata": {},
   "outputs": [],
   "source": [
    "def year(info):\n",
    "    for job in info['professional']:\n",
    "        if not job['start_year']:\n",
    "            job['start_year'] = int(job['start_month'])\n",
    "            job['start_month'] = 'Jan'\n",
    "        else:\n",
    "            job['start_year'] = int(job['start_year'])\n",
    "            \n",
    "        if not job['end_year']:\n",
    "            job['end_year'] = int(job['end_month'])\n",
    "            job['end_month'] = 'Jan'\n",
    "        else:\n",
    "            job['end_year'] = int(job['end_year'])\n",
    "    return info"
   ]
  },
  {
   "cell_type": "markdown",
   "id": "knowing-recipient",
   "metadata": {},
   "source": [
    "### Filter Out Incorrect Scrapped Profiles\n",
    "Right now, the only metric to ensure that the data is valid is if they went to WPI "
   ]
  },
  {
   "cell_type": "code",
   "execution_count": null,
   "id": "disciplinary-pittsburgh",
   "metadata": {},
   "outputs": [],
   "source": [
    "data = []\n",
    "for s in list(scrapped):\n",
    "    went_to_wpi = False\n",
    "    for edu in s['academic']:\n",
    "        if edu['name'] == 'Worcester Polytechnic Institute':\n",
    "            data.append(year(s))\n",
    "\n",
    "len(data)"
   ]
  },
  {
   "cell_type": "markdown",
   "id": "opening-profession",
   "metadata": {},
   "source": [
    "## Create Derived Features\n",
    "Create the features first, then assign them one at a time"
   ]
  },
  {
   "cell_type": "markdown",
   "id": "figured-payroll",
   "metadata": {},
   "source": [
    "### Years Since First Job\n",
    "Show how long the person spent in each job"
   ]
  },
  {
   "cell_type": "code",
   "execution_count": null,
   "id": "competitive-emperor",
   "metadata": {},
   "outputs": [],
   "source": [
    "def years_since_first_job(info):\n",
    "    if not info['professional']:\n",
    "        return info\n",
    "    \n",
    "    first_job = info['professional'][0]['start_year']\n",
    "    \n",
    "    for job in info['professional']:\n",
    "        # HACK NEED TO FIX\n",
    "        job['years_since_start'] = job['start_year'] - first_job\n",
    "    \n",
    "    return info"
   ]
  },
  {
   "cell_type": "markdown",
   "id": "fancy-boards",
   "metadata": {},
   "source": [
    "### Job Tenure\n",
    "How long the person has been at their current job."
   ]
  },
  {
   "cell_type": "code",
   "execution_count": null,
   "id": "lasting-registration",
   "metadata": {},
   "outputs": [],
   "source": [
    "def job_tenure(info):\n",
    "    for job in info['professional']:\n",
    "        # HACK NEED TO FIX\n",
    "        job['tenure'] = max(job['end_year'] - job['start_year'], 1)\n",
    "    return info"
   ]
  },
  {
   "cell_type": "markdown",
   "id": "facial-leave",
   "metadata": {},
   "source": [
    "### Alunni Education History Join\n",
    "Join the LinkedIn data against WPI's internal database. In terms of conflict, always prefer WPI's database to the LinkedIn Data"
   ]
  },
  {
   "cell_type": "code",
   "execution_count": null,
   "id": "dense-arrival",
   "metadata": {},
   "outputs": [],
   "source": [
    "def merge_edu_history(info):\n",
    "    history = subset.loc[subset['url'] == info['url']]\n",
    "    \n",
    "    # Delete any WPI data\n",
    "    edu_backup = info['academic'].copy()\n",
    "    joint_edu = []\n",
    "    for edu in edu_backup:\n",
    "        if edu['name'] != 'Worcester Polytechnic Institute':\n",
    "            joint_edu.append(edu)\n",
    "                \n",
    "    # Join with WPI Data\n",
    "    for i in range(history.shape[0]):\n",
    "        degree = history.iloc[i].fillna('None')\n",
    "        \n",
    "        joint_edu.append({\n",
    "            'name': 'Worcester Polytechnic Institute',\n",
    "            'type': degree['Degree/Certificate'],\n",
    "            'start': degree['Start Year'],\n",
    "            'end': degree['Degree Year'],\n",
    "            'major_1': degree['Major #1'],\n",
    "            'major_1_dept': degree['Major #1 Department'],\n",
    "            'major_2': degree['Major #2'],\n",
    "            'major_2_dept': degree['Major #2 Department'],\n",
    "            'minor_1': degree['Minor #1'],\n",
    "            'minor_1_dept': degree['Minor #1 Department'],\n",
    "            'minor_2': degree['Minor #2'],\n",
    "            'minor_2_dept': degree['Minor #2 Department'],\n",
    "        })\n",
    "            \n",
    "    edu_hist = sorted(joint_edu, key=lambda x: int(x['end']))\n",
    "    for i, edu in enumerate(edu_hist):\n",
    "        edu['order'] = i\n",
    "    \n",
    "    info['academic'] = edu_hist\n",
    "    return info"
   ]
  },
  {
   "cell_type": "code",
   "execution_count": null,
   "id": "cellular-experiment",
   "metadata": {},
   "outputs": [],
   "source": [
    "merge_edu_history(data[0])"
   ]
  },
  {
   "cell_type": "markdown",
   "id": "thorough-nudist",
   "metadata": {},
   "source": [
    "## Merge all modifications"
   ]
  },
  {
   "cell_type": "markdown",
   "id": "final-driving",
   "metadata": {},
   "source": [
    "Create a super simple, parallelizable function"
   ]
  },
  {
   "cell_type": "code",
   "execution_count": null,
   "id": "ultimate-christmas",
   "metadata": {},
   "outputs": [],
   "source": [
    "def post(d):\n",
    "    d = years_since_first_job(d)\n",
    "    d = job_tenure(d)\n",
    "    d = merge_edu_history(d)\n",
    "    return d"
   ]
  },
  {
   "cell_type": "markdown",
   "id": "martial-native",
   "metadata": {},
   "source": [
    "# Final Join\n",
    "Merge all of the data together and export"
   ]
  },
  {
   "cell_type": "code",
   "execution_count": null,
   "id": "understanding-natural",
   "metadata": {
    "scrolled": true,
    "tags": []
   },
   "outputs": [],
   "source": [
    "final = [post(d) for d in data]"
   ]
  },
  {
   "cell_type": "markdown",
   "id": "unable-black",
   "metadata": {},
   "source": [
    "Write and save to a file"
   ]
  },
  {
   "cell_type": "code",
   "execution_count": null,
   "id": "given-midwest",
   "metadata": {},
   "outputs": [],
   "source": [
    "with open('final.json', 'w') as fh:\n",
    "    fh.write(json.dumps(final))"
   ]
  },
  {
   "cell_type": "code",
   "execution_count": null,
   "id": "welsh-annex",
   "metadata": {},
   "outputs": [],
   "source": []
  }
 ],
 "metadata": {
  "kernelspec": {
   "display_name": "Python 3.9.2 64-bit ('venv-chess960': venv)",
   "language": "python",
   "name": "python39264bitvenvchess960venv621cddcb546a4325bb3f09a79a0bd0dc"
  },
  "language_info": {
   "codemirror_mode": {
    "name": "ipython",
    "version": 3
   },
   "file_extension": ".py",
   "mimetype": "text/x-python",
   "name": "python",
   "nbconvert_exporter": "python",
   "pygments_lexer": "ipython3",
   "version": "3.9.2"
  },
  "toc-autonumbering": true,
  "toc-showcode": false,
  "toc-showmarkdowntxt": false
 },
 "nbformat": 4,
 "nbformat_minor": 5
}
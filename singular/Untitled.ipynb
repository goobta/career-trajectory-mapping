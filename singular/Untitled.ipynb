{
 "cells": [
  {
   "cell_type": "markdown",
   "id": "a6a1540e-56be-4d01-bc6e-34b3dbed7c20",
   "metadata": {},
   "source": [
    "# Prepare Sankey Data"
   ]
  },
  {
   "cell_type": "code",
   "execution_count": 1,
   "id": "392655fb-ed03-467c-893f-f84f4a618f14",
   "metadata": {},
   "outputs": [],
   "source": [
    "from tqdm.notebook import tqdm\n",
    "from concurrent import futures\n",
    "\n",
    "import itertools\n",
    "import pandas as pd\n",
    "import numpy as np"
   ]
  },
  {
   "cell_type": "code",
   "execution_count": 2,
   "id": "5fd83b1a-9c9b-457e-8f3a-7d1d578cbad0",
   "metadata": {},
   "outputs": [
    {
     "name": "stderr",
     "output_type": "stream",
     "text": [
      "/home/agupta/Documents/education/wpi/senior/iqp/career-trajectory-mapping/venv-iqp/lib/python3.9/site-packages/IPython/core/interactiveshell.py:3165: DtypeWarning: Columns (18) have mixed types.Specify dtype option on import or set low_memory=False.\n",
      "  has_raised = await self.run_ast_nodes(code_ast.body, cell_name,\n"
     ]
    },
    {
     "data": {
      "text/html": [
       "<div>\n",
       "<style scoped>\n",
       "    .dataframe tbody tr th:only-of-type {\n",
       "        vertical-align: middle;\n",
       "    }\n",
       "\n",
       "    .dataframe tbody tr th {\n",
       "        vertical-align: top;\n",
       "    }\n",
       "\n",
       "    .dataframe thead th {\n",
       "        text-align: right;\n",
       "    }\n",
       "</style>\n",
       "<table border=\"1\" class=\"dataframe\">\n",
       "  <thead>\n",
       "    <tr style=\"text-align: right;\">\n",
       "      <th></th>\n",
       "      <th>Contact: Case Safe ID</th>\n",
       "      <th>Contact: Full Name</th>\n",
       "      <th>Contact: Constituent Category (Primary)</th>\n",
       "      <th>Contact: Preferred Class Year</th>\n",
       "      <th>Education: Education History</th>\n",
       "      <th>Degree/Certificate</th>\n",
       "      <th>Degree Year</th>\n",
       "      <th>End Year</th>\n",
       "      <th>Graduation Year</th>\n",
       "      <th>Institution Name</th>\n",
       "      <th>...</th>\n",
       "      <th>Minor #2</th>\n",
       "      <th>Minor #2 Department</th>\n",
       "      <th>Other Information Related to Degree</th>\n",
       "      <th>Start Year</th>\n",
       "      <th>Student Status</th>\n",
       "      <th>Education: Record Type</th>\n",
       "      <th>Education: Created By</th>\n",
       "      <th>Education: Created Date</th>\n",
       "      <th>Education: Last Modified By</th>\n",
       "      <th>Education: Last Modified Date</th>\n",
       "    </tr>\n",
       "  </thead>\n",
       "  <tbody>\n",
       "    <tr>\n",
       "      <th>0</th>\n",
       "      <td>003G0000024bMwNIAU</td>\n",
       "      <td>Mark Korir</td>\n",
       "      <td>Graduate Alumnus</td>\n",
       "      <td>2017.0</td>\n",
       "      <td>120338</td>\n",
       "      <td>Master of Business Admin.</td>\n",
       "      <td>2014.0</td>\n",
       "      <td>NaN</td>\n",
       "      <td>2014.0</td>\n",
       "      <td>Hodges University</td>\n",
       "      <td>...</td>\n",
       "      <td>NaN</td>\n",
       "      <td>NaN</td>\n",
       "      <td>NaN</td>\n",
       "      <td>NaN</td>\n",
       "      <td>NaN</td>\n",
       "      <td>Non-WPI Degree</td>\n",
       "      <td>Anthony McMahon</td>\n",
       "      <td>8/23/2018</td>\n",
       "      <td>Anthony McMahon</td>\n",
       "      <td>8/23/2018</td>\n",
       "    </tr>\n",
       "    <tr>\n",
       "      <th>1</th>\n",
       "      <td>003G000001oerenIAA</td>\n",
       "      <td>Rebecca Ide</td>\n",
       "      <td>Alumna/us</td>\n",
       "      <td>2012.0</td>\n",
       "      <td>185152</td>\n",
       "      <td>Non-Degree</td>\n",
       "      <td>NaN</td>\n",
       "      <td>NaN</td>\n",
       "      <td>NaN</td>\n",
       "      <td>Becker College Worcester</td>\n",
       "      <td>...</td>\n",
       "      <td>NaN</td>\n",
       "      <td>NaN</td>\n",
       "      <td>NaN</td>\n",
       "      <td>NaN</td>\n",
       "      <td>NaN</td>\n",
       "      <td>WPI Degree</td>\n",
       "      <td>API-Only</td>\n",
       "      <td>8/27/2018</td>\n",
       "      <td>API-Only</td>\n",
       "      <td>8/27/2018</td>\n",
       "    </tr>\n",
       "    <tr>\n",
       "      <th>2</th>\n",
       "      <td>003G000001of21qIAA</td>\n",
       "      <td>Kevin Lynch</td>\n",
       "      <td>Alumna/us</td>\n",
       "      <td>2018.0</td>\n",
       "      <td>174184</td>\n",
       "      <td>Bachelor of Science</td>\n",
       "      <td>2017.0</td>\n",
       "      <td>NaN</td>\n",
       "      <td>2017.0</td>\n",
       "      <td>Worcester Polytechnic Institute</td>\n",
       "      <td>...</td>\n",
       "      <td>NaN</td>\n",
       "      <td>NaN</td>\n",
       "      <td>NaN</td>\n",
       "      <td>NaN</td>\n",
       "      <td>Inactive</td>\n",
       "      <td>WPI Degree</td>\n",
       "      <td>Anthony McMahon</td>\n",
       "      <td>8/23/2018</td>\n",
       "      <td>Jeffrey Caglarcan</td>\n",
       "      <td>8/18/2019</td>\n",
       "    </tr>\n",
       "    <tr>\n",
       "      <th>3</th>\n",
       "      <td>003G000001oeYxWIAU</td>\n",
       "      <td>Zareh Martin</td>\n",
       "      <td>Alumna/us</td>\n",
       "      <td>1940.0</td>\n",
       "      <td>155692</td>\n",
       "      <td>Bachelor of Science</td>\n",
       "      <td>1940.0</td>\n",
       "      <td>NaN</td>\n",
       "      <td>1940.0</td>\n",
       "      <td>Worcester Polytechnic Institute</td>\n",
       "      <td>...</td>\n",
       "      <td>NaN</td>\n",
       "      <td>NaN</td>\n",
       "      <td>NaN</td>\n",
       "      <td>NaN</td>\n",
       "      <td>Inactive</td>\n",
       "      <td>WPI Degree</td>\n",
       "      <td>Anthony McMahon</td>\n",
       "      <td>8/23/2018</td>\n",
       "      <td>Jeffrey Caglarcan</td>\n",
       "      <td>8/18/2019</td>\n",
       "    </tr>\n",
       "    <tr>\n",
       "      <th>4</th>\n",
       "      <td>003G000001oeaVGIAY</td>\n",
       "      <td>Gerald Orre</td>\n",
       "      <td>Alumna/us</td>\n",
       "      <td>1971.0</td>\n",
       "      <td>158957</td>\n",
       "      <td>Bachelor of Science</td>\n",
       "      <td>1971.0</td>\n",
       "      <td>NaN</td>\n",
       "      <td>1971.0</td>\n",
       "      <td>Worcester Polytechnic Institute</td>\n",
       "      <td>...</td>\n",
       "      <td>NaN</td>\n",
       "      <td>NaN</td>\n",
       "      <td>NaN</td>\n",
       "      <td>NaN</td>\n",
       "      <td>Inactive</td>\n",
       "      <td>WPI Degree</td>\n",
       "      <td>Anthony McMahon</td>\n",
       "      <td>8/23/2018</td>\n",
       "      <td>Jeffrey Caglarcan</td>\n",
       "      <td>8/18/2019</td>\n",
       "    </tr>\n",
       "    <tr>\n",
       "      <th>...</th>\n",
       "      <td>...</td>\n",
       "      <td>...</td>\n",
       "      <td>...</td>\n",
       "      <td>...</td>\n",
       "      <td>...</td>\n",
       "      <td>...</td>\n",
       "      <td>...</td>\n",
       "      <td>...</td>\n",
       "      <td>...</td>\n",
       "      <td>...</td>\n",
       "      <td>...</td>\n",
       "      <td>...</td>\n",
       "      <td>...</td>\n",
       "      <td>...</td>\n",
       "      <td>...</td>\n",
       "      <td>...</td>\n",
       "      <td>...</td>\n",
       "      <td>...</td>\n",
       "      <td>...</td>\n",
       "      <td>...</td>\n",
       "      <td>...</td>\n",
       "    </tr>\n",
       "    <tr>\n",
       "      <th>80709</th>\n",
       "      <td>003G000002fezPIIAY</td>\n",
       "      <td>Shikhar Gupta</td>\n",
       "      <td>Graduate Alumnus</td>\n",
       "      <td>2018.0</td>\n",
       "      <td>141101</td>\n",
       "      <td>Other Bachelors Degree</td>\n",
       "      <td>NaN</td>\n",
       "      <td>2012.0</td>\n",
       "      <td>NaN</td>\n",
       "      <td>SIES College of Mgt Studies</td>\n",
       "      <td>...</td>\n",
       "      <td>NaN</td>\n",
       "      <td>NaN</td>\n",
       "      <td>NaN</td>\n",
       "      <td>2009.0</td>\n",
       "      <td>NaN</td>\n",
       "      <td>Non-WPI Degree</td>\n",
       "      <td>Anthony McMahon</td>\n",
       "      <td>8/23/2018</td>\n",
       "      <td>Anthony McMahon</td>\n",
       "      <td>8/23/2018</td>\n",
       "    </tr>\n",
       "    <tr>\n",
       "      <th>80710</th>\n",
       "      <td>003G000002fezPIIAY</td>\n",
       "      <td>Shikhar Gupta</td>\n",
       "      <td>Graduate Alumnus</td>\n",
       "      <td>2018.0</td>\n",
       "      <td>181530</td>\n",
       "      <td>Other Bachelors Degree</td>\n",
       "      <td>2012.0</td>\n",
       "      <td>NaN</td>\n",
       "      <td>2012.0</td>\n",
       "      <td>SIES College of Mgt Studies</td>\n",
       "      <td>...</td>\n",
       "      <td>NaN</td>\n",
       "      <td>NaN</td>\n",
       "      <td>NaN</td>\n",
       "      <td>2017.0</td>\n",
       "      <td>Inactive due to graduation</td>\n",
       "      <td>Non-WPI Degree</td>\n",
       "      <td>API-Only</td>\n",
       "      <td>8/24/2018</td>\n",
       "      <td>API-Only</td>\n",
       "      <td>3/25/2019</td>\n",
       "    </tr>\n",
       "    <tr>\n",
       "      <th>80711</th>\n",
       "      <td>003G000002Fh4xzIAB</td>\n",
       "      <td>Voon Li Koh</td>\n",
       "      <td>Graduate Alumnus</td>\n",
       "      <td>2020.0</td>\n",
       "      <td>142125</td>\n",
       "      <td>Bachelor of Engineering</td>\n",
       "      <td>NaN</td>\n",
       "      <td>2009.0</td>\n",
       "      <td>NaN</td>\n",
       "      <td>Universiti Tunku Abdul Rahman</td>\n",
       "      <td>...</td>\n",
       "      <td>NaN</td>\n",
       "      <td>NaN</td>\n",
       "      <td>NaN</td>\n",
       "      <td>2006.0</td>\n",
       "      <td>NaN</td>\n",
       "      <td>Non-WPI Degree</td>\n",
       "      <td>Anthony McMahon</td>\n",
       "      <td>8/23/2018</td>\n",
       "      <td>Anthony McMahon</td>\n",
       "      <td>8/23/2018</td>\n",
       "    </tr>\n",
       "    <tr>\n",
       "      <th>80712</th>\n",
       "      <td>003G000001of33gIAA</td>\n",
       "      <td>Zhaolong Zhang</td>\n",
       "      <td>Graduate Alumnus</td>\n",
       "      <td>2016.0</td>\n",
       "      <td>109269</td>\n",
       "      <td>Other Graduate Degree</td>\n",
       "      <td>2012.0</td>\n",
       "      <td>NaN</td>\n",
       "      <td>2012.0</td>\n",
       "      <td>Pittsburg State University</td>\n",
       "      <td>...</td>\n",
       "      <td>NaN</td>\n",
       "      <td>NaN</td>\n",
       "      <td>NaN</td>\n",
       "      <td>NaN</td>\n",
       "      <td>NaN</td>\n",
       "      <td>Non-WPI Degree</td>\n",
       "      <td>Anthony McMahon</td>\n",
       "      <td>8/23/2018</td>\n",
       "      <td>Anthony McMahon</td>\n",
       "      <td>8/23/2018</td>\n",
       "    </tr>\n",
       "    <tr>\n",
       "      <th>80713</th>\n",
       "      <td>003G000001of33gIAA</td>\n",
       "      <td>Zhaolong Zhang</td>\n",
       "      <td>Graduate Alumnus</td>\n",
       "      <td>2016.0</td>\n",
       "      <td>109268</td>\n",
       "      <td>Non-Degree</td>\n",
       "      <td>2011.0</td>\n",
       "      <td>NaN</td>\n",
       "      <td>2011.0</td>\n",
       "      <td>Pittsburg State University</td>\n",
       "      <td>...</td>\n",
       "      <td>NaN</td>\n",
       "      <td>NaN</td>\n",
       "      <td>NaN</td>\n",
       "      <td>NaN</td>\n",
       "      <td>NaN</td>\n",
       "      <td>Non-WPI Degree</td>\n",
       "      <td>Anthony McMahon</td>\n",
       "      <td>8/23/2018</td>\n",
       "      <td>Anthony McMahon</td>\n",
       "      <td>8/23/2018</td>\n",
       "    </tr>\n",
       "  </tbody>\n",
       "</table>\n",
       "<p>80714 rows × 26 columns</p>\n",
       "</div>"
      ],
      "text/plain": [
       "      Contact: Case Safe ID Contact: Full Name  \\\n",
       "0        003G0000024bMwNIAU         Mark Korir   \n",
       "1        003G000001oerenIAA        Rebecca Ide   \n",
       "2        003G000001of21qIAA        Kevin Lynch   \n",
       "3        003G000001oeYxWIAU       Zareh Martin   \n",
       "4        003G000001oeaVGIAY        Gerald Orre   \n",
       "...                     ...                ...   \n",
       "80709    003G000002fezPIIAY      Shikhar Gupta   \n",
       "80710    003G000002fezPIIAY      Shikhar Gupta   \n",
       "80711    003G000002Fh4xzIAB        Voon Li Koh   \n",
       "80712    003G000001of33gIAA     Zhaolong Zhang   \n",
       "80713    003G000001of33gIAA     Zhaolong Zhang   \n",
       "\n",
       "      Contact: Constituent Category (Primary)  Contact: Preferred Class Year  \\\n",
       "0                            Graduate Alumnus                         2017.0   \n",
       "1                                   Alumna/us                         2012.0   \n",
       "2                                   Alumna/us                         2018.0   \n",
       "3                                   Alumna/us                         1940.0   \n",
       "4                                   Alumna/us                         1971.0   \n",
       "...                                       ...                            ...   \n",
       "80709                        Graduate Alumnus                         2018.0   \n",
       "80710                        Graduate Alumnus                         2018.0   \n",
       "80711                        Graduate Alumnus                         2020.0   \n",
       "80712                        Graduate Alumnus                         2016.0   \n",
       "80713                        Graduate Alumnus                         2016.0   \n",
       "\n",
       "       Education: Education History         Degree/Certificate  Degree Year  \\\n",
       "0                            120338  Master of Business Admin.       2014.0   \n",
       "1                            185152                 Non-Degree          NaN   \n",
       "2                            174184        Bachelor of Science       2017.0   \n",
       "3                            155692        Bachelor of Science       1940.0   \n",
       "4                            158957        Bachelor of Science       1971.0   \n",
       "...                             ...                        ...          ...   \n",
       "80709                        141101     Other Bachelors Degree          NaN   \n",
       "80710                        181530     Other Bachelors Degree       2012.0   \n",
       "80711                        142125    Bachelor of Engineering          NaN   \n",
       "80712                        109269      Other Graduate Degree       2012.0   \n",
       "80713                        109268                 Non-Degree       2011.0   \n",
       "\n",
       "       End Year  Graduation Year                 Institution Name  ...  \\\n",
       "0           NaN           2014.0                Hodges University  ...   \n",
       "1           NaN              NaN         Becker College Worcester  ...   \n",
       "2           NaN           2017.0  Worcester Polytechnic Institute  ...   \n",
       "3           NaN           1940.0  Worcester Polytechnic Institute  ...   \n",
       "4           NaN           1971.0  Worcester Polytechnic Institute  ...   \n",
       "...         ...              ...                              ...  ...   \n",
       "80709    2012.0              NaN      SIES College of Mgt Studies  ...   \n",
       "80710       NaN           2012.0      SIES College of Mgt Studies  ...   \n",
       "80711    2009.0              NaN    Universiti Tunku Abdul Rahman  ...   \n",
       "80712       NaN           2012.0       Pittsburg State University  ...   \n",
       "80713       NaN           2011.0       Pittsburg State University  ...   \n",
       "\n",
       "      Minor #2 Minor #2 Department Other Information Related to Degree  \\\n",
       "0          NaN                 NaN                                 NaN   \n",
       "1          NaN                 NaN                                 NaN   \n",
       "2          NaN                 NaN                                 NaN   \n",
       "3          NaN                 NaN                                 NaN   \n",
       "4          NaN                 NaN                                 NaN   \n",
       "...        ...                 ...                                 ...   \n",
       "80709      NaN                 NaN                                 NaN   \n",
       "80710      NaN                 NaN                                 NaN   \n",
       "80711      NaN                 NaN                                 NaN   \n",
       "80712      NaN                 NaN                                 NaN   \n",
       "80713      NaN                 NaN                                 NaN   \n",
       "\n",
       "      Start Year              Student Status Education: Record Type  \\\n",
       "0            NaN                         NaN         Non-WPI Degree   \n",
       "1            NaN                         NaN             WPI Degree   \n",
       "2            NaN                    Inactive             WPI Degree   \n",
       "3            NaN                    Inactive             WPI Degree   \n",
       "4            NaN                    Inactive             WPI Degree   \n",
       "...          ...                         ...                    ...   \n",
       "80709     2009.0                         NaN         Non-WPI Degree   \n",
       "80710     2017.0  Inactive due to graduation         Non-WPI Degree   \n",
       "80711     2006.0                         NaN         Non-WPI Degree   \n",
       "80712        NaN                         NaN         Non-WPI Degree   \n",
       "80713        NaN                         NaN         Non-WPI Degree   \n",
       "\n",
       "      Education: Created By Education: Created Date  \\\n",
       "0           Anthony McMahon               8/23/2018   \n",
       "1                  API-Only               8/27/2018   \n",
       "2           Anthony McMahon               8/23/2018   \n",
       "3           Anthony McMahon               8/23/2018   \n",
       "4           Anthony McMahon               8/23/2018   \n",
       "...                     ...                     ...   \n",
       "80709       Anthony McMahon               8/23/2018   \n",
       "80710              API-Only               8/24/2018   \n",
       "80711       Anthony McMahon               8/23/2018   \n",
       "80712       Anthony McMahon               8/23/2018   \n",
       "80713       Anthony McMahon               8/23/2018   \n",
       "\n",
       "      Education: Last Modified By  Education: Last Modified Date  \n",
       "0                 Anthony McMahon                      8/23/2018  \n",
       "1                        API-Only                      8/27/2018  \n",
       "2               Jeffrey Caglarcan                      8/18/2019  \n",
       "3               Jeffrey Caglarcan                      8/18/2019  \n",
       "4               Jeffrey Caglarcan                      8/18/2019  \n",
       "...                           ...                            ...  \n",
       "80709             Anthony McMahon                      8/23/2018  \n",
       "80710                    API-Only                      3/25/2019  \n",
       "80711             Anthony McMahon                      8/23/2018  \n",
       "80712             Anthony McMahon                      8/23/2018  \n",
       "80713             Anthony McMahon                      8/23/2018  \n",
       "\n",
       "[80714 rows x 26 columns]"
      ]
     },
     "execution_count": 2,
     "metadata": {},
     "output_type": "execute_result"
    }
   ],
   "source": [
    "subset = pd.read_csv('alum-edu-hist.csv')\n",
    "subset"
   ]
  },
  {
   "cell_type": "code",
   "execution_count": 3,
   "id": "666eec35-b5a6-4257-9190-ab285f9ad20f",
   "metadata": {},
   "outputs": [
    {
     "data": {
      "text/plain": [
       "Index(['Contact: Case Safe ID', 'Contact: Full Name',\n",
       "       'Contact: Constituent Category (Primary)',\n",
       "       'Contact: Preferred Class Year', 'Education: Education History',\n",
       "       'Degree/Certificate', 'Degree Year', 'End Year', 'Graduation Year',\n",
       "       'Institution Name', 'Major #1', 'Major #1 Department', 'Major #2',\n",
       "       'Major #2 Department', 'Minor #1', 'Minor #1 Department', 'Minor #2',\n",
       "       'Minor #2 Department', 'Other Information Related to Degree',\n",
       "       'Start Year', 'Student Status', 'Education: Record Type',\n",
       "       'Education: Created By', 'Education: Created Date',\n",
       "       'Education: Last Modified By', 'Education: Last Modified Date'],\n",
       "      dtype='object')"
      ]
     },
     "execution_count": 3,
     "metadata": {},
     "output_type": "execute_result"
    }
   ],
   "source": [
    "subset.columns"
   ]
  },
  {
   "cell_type": "code",
   "execution_count": 4,
   "id": "fee818db-1c7b-4041-9220-77c58b1cde00",
   "metadata": {},
   "outputs": [],
   "source": [
    "all_majors = pd.concat((subset['Major #1'], subset['Major #2'])).unique()\n",
    "all_minors = pd.concat((subset['Minor #1'], subset['Minor #2'])).unique()"
   ]
  },
  {
   "cell_type": "code",
   "execution_count": 5,
   "id": "3792cf8d-97dd-4b5c-84aa-718536651957",
   "metadata": {},
   "outputs": [],
   "source": [
    "def minor_search(major1, major2, major_subset):\n",
    "    tabs = []    \n",
    "    for minor1 in all_minors:\n",
    "        if minor1 is np.nan:\n",
    "            cnt = major_subset[(major_subset['Minor #1'].isna()) & (major_subset['Minor #2'].isna())].shape[0]\n",
    "            if cnt:\n",
    "                tabs.append({\n",
    "                'major1': major1,\n",
    "                'major2': 'None' if isinstance(major2, float) else major2,\n",
    "                'minor1': 'None',\n",
    "                'minor2': 'None',\n",
    "                'cnt': cnt,\n",
    "                })\n",
    "                continue\n",
    "        if minor1 in (major1, major2):\n",
    "            continue\n",
    "            \n",
    "        for minor2 in all_minors:\n",
    "            if minor2 is np.nan:\n",
    "                if minor2 in (major1, major2):\n",
    "                    continue\n",
    "                \n",
    "                cnt = major_subset[(major_subset['Minor #1'] == minor1) & (major_subset['Minor #2'].isna())].shape[0]\n",
    "            else:\n",
    "                cnt = major_subset[((major_subset['Minor #1'] == minor1) & (major_subset['Minor #2'] == minor2)) | \\\n",
    "                                   ((major_subset['Minor #1'] == minor2) & (major_subset['Minor #2'] == minor1))].shape[0]\n",
    "                    \n",
    "            if cnt:\n",
    "                tabs.append({\n",
    "                    'major1': major1,\n",
    "                    'major2': 'None' if isinstance(major2, float) else major2,\n",
    "                    'minor1': minor1,\n",
    "                    'minor2': 'None' if minor2 is np.nan else minor2,\n",
    "                    'cnt': cnt\n",
    "                })\n",
    "    return tabs"
   ]
  },
  {
   "cell_type": "code",
   "execution_count": 6,
   "id": "a8ee1d26-f78c-44f4-afb2-e27923470958",
   "metadata": {
    "tags": []
   },
   "outputs": [
    {
     "data": {
      "application/vnd.jupyter.widget-view+json": {
       "model_id": "115a80834eab41c59f54d0b4eeab5a9d",
       "version_major": 2,
       "version_minor": 0
      },
      "text/plain": [
       "Major 1:   0%|          | 0/162 [00:00<?, ?it/s]"
      ]
     },
     "metadata": {},
     "output_type": "display_data"
    },
    {
     "data": {
      "application/vnd.jupyter.widget-view+json": {
       "model_id": "",
       "version_major": 2,
       "version_minor": 0
      },
      "text/plain": [
       "Major 2:   0%|          | 0/162 [00:00<?, ?it/s]"
      ]
     },
     "metadata": {},
     "output_type": "display_data"
    },
    {
     "data": {
      "application/vnd.jupyter.widget-view+json": {
       "model_id": "",
       "version_major": 2,
       "version_minor": 0
      },
      "text/plain": [
       "Major 2:   0%|          | 0/162 [00:00<?, ?it/s]"
      ]
     },
     "metadata": {},
     "output_type": "display_data"
    },
    {
     "data": {
      "application/vnd.jupyter.widget-view+json": {
       "model_id": "",
       "version_major": 2,
       "version_minor": 0
      },
      "text/plain": [
       "Major 2:   0%|          | 0/162 [00:00<?, ?it/s]"
      ]
     },
     "metadata": {},
     "output_type": "display_data"
    },
    {
     "data": {
      "application/vnd.jupyter.widget-view+json": {
       "model_id": "",
       "version_major": 2,
       "version_minor": 0
      },
      "text/plain": [
       "Major 2:   0%|          | 0/162 [00:00<?, ?it/s]"
      ]
     },
     "metadata": {},
     "output_type": "display_data"
    },
    {
     "data": {
      "application/vnd.jupyter.widget-view+json": {
       "model_id": "",
       "version_major": 2,
       "version_minor": 0
      },
      "text/plain": [
       "Major 2:   0%|          | 0/162 [00:00<?, ?it/s]"
      ]
     },
     "metadata": {},
     "output_type": "display_data"
    },
    {
     "data": {
      "application/vnd.jupyter.widget-view+json": {
       "model_id": "",
       "version_major": 2,
       "version_minor": 0
      },
      "text/plain": [
       "Major 2:   0%|          | 0/162 [00:00<?, ?it/s]"
      ]
     },
     "metadata": {},
     "output_type": "display_data"
    },
    {
     "data": {
      "application/vnd.jupyter.widget-view+json": {
       "model_id": "",
       "version_major": 2,
       "version_minor": 0
      },
      "text/plain": [
       "Major 2:   0%|          | 0/162 [00:00<?, ?it/s]"
      ]
     },
     "metadata": {},
     "output_type": "display_data"
    },
    {
     "data": {
      "application/vnd.jupyter.widget-view+json": {
       "model_id": "",
       "version_major": 2,
       "version_minor": 0
      },
      "text/plain": [
       "Major 2:   0%|          | 0/162 [00:00<?, ?it/s]"
      ]
     },
     "metadata": {},
     "output_type": "display_data"
    },
    {
     "data": {
      "application/vnd.jupyter.widget-view+json": {
       "model_id": "",
       "version_major": 2,
       "version_minor": 0
      },
      "text/plain": [
       "Major 2:   0%|          | 0/162 [00:00<?, ?it/s]"
      ]
     },
     "metadata": {},
     "output_type": "display_data"
    },
    {
     "data": {
      "application/vnd.jupyter.widget-view+json": {
       "model_id": "",
       "version_major": 2,
       "version_minor": 0
      },
      "text/plain": [
       "Major 2:   0%|          | 0/162 [00:00<?, ?it/s]"
      ]
     },
     "metadata": {},
     "output_type": "display_data"
    },
    {
     "data": {
      "application/vnd.jupyter.widget-view+json": {
       "model_id": "",
       "version_major": 2,
       "version_minor": 0
      },
      "text/plain": [
       "Major 2:   0%|          | 0/162 [00:00<?, ?it/s]"
      ]
     },
     "metadata": {},
     "output_type": "display_data"
    },
    {
     "data": {
      "application/vnd.jupyter.widget-view+json": {
       "model_id": "",
       "version_major": 2,
       "version_minor": 0
      },
      "text/plain": [
       "Major 2:   0%|          | 0/162 [00:00<?, ?it/s]"
      ]
     },
     "metadata": {},
     "output_type": "display_data"
    },
    {
     "data": {
      "application/vnd.jupyter.widget-view+json": {
       "model_id": "",
       "version_major": 2,
       "version_minor": 0
      },
      "text/plain": [
       "Major 2:   0%|          | 0/162 [00:00<?, ?it/s]"
      ]
     },
     "metadata": {},
     "output_type": "display_data"
    },
    {
     "data": {
      "application/vnd.jupyter.widget-view+json": {
       "model_id": "",
       "version_major": 2,
       "version_minor": 0
      },
      "text/plain": [
       "Major 2:   0%|          | 0/162 [00:00<?, ?it/s]"
      ]
     },
     "metadata": {},
     "output_type": "display_data"
    },
    {
     "data": {
      "application/vnd.jupyter.widget-view+json": {
       "model_id": "",
       "version_major": 2,
       "version_minor": 0
      },
      "text/plain": [
       "Major 2:   0%|          | 0/162 [00:00<?, ?it/s]"
      ]
     },
     "metadata": {},
     "output_type": "display_data"
    },
    {
     "data": {
      "application/vnd.jupyter.widget-view+json": {
       "model_id": "",
       "version_major": 2,
       "version_minor": 0
      },
      "text/plain": [
       "Major 2:   0%|          | 0/162 [00:00<?, ?it/s]"
      ]
     },
     "metadata": {},
     "output_type": "display_data"
    },
    {
     "data": {
      "application/vnd.jupyter.widget-view+json": {
       "model_id": "",
       "version_major": 2,
       "version_minor": 0
      },
      "text/plain": [
       "Major 2:   0%|          | 0/162 [00:00<?, ?it/s]"
      ]
     },
     "metadata": {},
     "output_type": "display_data"
    },
    {
     "data": {
      "application/vnd.jupyter.widget-view+json": {
       "model_id": "96ffe578a7e349269021b91688df6dde",
       "version_major": 2,
       "version_minor": 0
      },
      "text/plain": [
       "Major 2:   0%|          | 0/162 [00:00<?, ?it/s]"
      ]
     },
     "metadata": {},
     "output_type": "display_data"
    },
    {
     "ename": "KeyboardInterrupt",
     "evalue": "",
     "output_type": "error",
     "traceback": [
      "\u001b[0;31m---------------------------------------------------------------------------\u001b[0m",
      "\u001b[0;31mKeyboardInterrupt\u001b[0m                         Traceback (most recent call last)",
      "\u001b[0;32m<ipython-input-6-8cd25d342bd0>\u001b[0m in \u001b[0;36m<module>\u001b[0;34m\u001b[0m\n\u001b[1;32m     15\u001b[0m     \u001b[0;32mwith\u001b[0m \u001b[0mfutures\u001b[0m\u001b[0;34m.\u001b[0m\u001b[0mProcessPoolExecutor\u001b[0m\u001b[0;34m(\u001b[0m\u001b[0;34m)\u001b[0m \u001b[0;32mas\u001b[0m \u001b[0mexecutor\u001b[0m\u001b[0;34m:\u001b[0m\u001b[0;34m\u001b[0m\u001b[0;34m\u001b[0m\u001b[0m\n\u001b[0;32m---> 16\u001b[0;31m         cross_tab.append(list(tqdm(executor.map(minor_search, itertools.repeat(major1), all_majors, major2_subsets),\n\u001b[0m\u001b[1;32m     17\u001b[0m                                    total=len(all_majors), desc='Major 2', leave=False)))\n",
      "\u001b[0;32m~/Documents/education/wpi/senior/iqp/career-trajectory-mapping/venv-iqp/lib/python3.9/site-packages/tqdm/notebook.py\u001b[0m in \u001b[0;36m__iter__\u001b[0;34m(self)\u001b[0m\n\u001b[1;32m    247\u001b[0m         \u001b[0;32mtry\u001b[0m\u001b[0;34m:\u001b[0m\u001b[0;34m\u001b[0m\u001b[0;34m\u001b[0m\u001b[0m\n\u001b[0;32m--> 248\u001b[0;31m             \u001b[0;32mfor\u001b[0m \u001b[0mobj\u001b[0m \u001b[0;32min\u001b[0m \u001b[0msuper\u001b[0m\u001b[0;34m(\u001b[0m\u001b[0mtqdm_notebook\u001b[0m\u001b[0;34m,\u001b[0m \u001b[0mself\u001b[0m\u001b[0;34m)\u001b[0m\u001b[0;34m.\u001b[0m\u001b[0m__iter__\u001b[0m\u001b[0;34m(\u001b[0m\u001b[0;34m)\u001b[0m\u001b[0;34m:\u001b[0m\u001b[0;34m\u001b[0m\u001b[0;34m\u001b[0m\u001b[0m\n\u001b[0m\u001b[1;32m    249\u001b[0m                 \u001b[0;31m# return super(tqdm...) will not catch exception\u001b[0m\u001b[0;34m\u001b[0m\u001b[0;34m\u001b[0m\u001b[0;34m\u001b[0m\u001b[0m\n",
      "\u001b[0;32m~/Documents/education/wpi/senior/iqp/career-trajectory-mapping/venv-iqp/lib/python3.9/site-packages/tqdm/std.py\u001b[0m in \u001b[0;36m__iter__\u001b[0;34m(self)\u001b[0m\n\u001b[1;32m   1177\u001b[0m         \u001b[0;32mtry\u001b[0m\u001b[0;34m:\u001b[0m\u001b[0;34m\u001b[0m\u001b[0;34m\u001b[0m\u001b[0m\n\u001b[0;32m-> 1178\u001b[0;31m             \u001b[0;32mfor\u001b[0m \u001b[0mobj\u001b[0m \u001b[0;32min\u001b[0m \u001b[0miterable\u001b[0m\u001b[0;34m:\u001b[0m\u001b[0;34m\u001b[0m\u001b[0;34m\u001b[0m\u001b[0m\n\u001b[0m\u001b[1;32m   1179\u001b[0m                 \u001b[0;32myield\u001b[0m \u001b[0mobj\u001b[0m\u001b[0;34m\u001b[0m\u001b[0;34m\u001b[0m\u001b[0m\n",
      "\u001b[0;32m/usr/lib/python3.9/concurrent/futures/process.py\u001b[0m in \u001b[0;36m_chain_from_iterable_of_lists\u001b[0;34m(iterable)\u001b[0m\n\u001b[1;32m    558\u001b[0m     \"\"\"\n\u001b[0;32m--> 559\u001b[0;31m     \u001b[0;32mfor\u001b[0m \u001b[0melement\u001b[0m \u001b[0;32min\u001b[0m \u001b[0miterable\u001b[0m\u001b[0;34m:\u001b[0m\u001b[0;34m\u001b[0m\u001b[0;34m\u001b[0m\u001b[0m\n\u001b[0m\u001b[1;32m    560\u001b[0m         \u001b[0melement\u001b[0m\u001b[0;34m.\u001b[0m\u001b[0mreverse\u001b[0m\u001b[0;34m(\u001b[0m\u001b[0;34m)\u001b[0m\u001b[0;34m\u001b[0m\u001b[0;34m\u001b[0m\u001b[0m\n",
      "\u001b[0;32m/usr/lib/python3.9/concurrent/futures/_base.py\u001b[0m in \u001b[0;36mresult_iterator\u001b[0;34m()\u001b[0m\n\u001b[1;32m    599\u001b[0m                     \u001b[0;32mif\u001b[0m \u001b[0mtimeout\u001b[0m \u001b[0;32mis\u001b[0m \u001b[0;32mNone\u001b[0m\u001b[0;34m:\u001b[0m\u001b[0;34m\u001b[0m\u001b[0;34m\u001b[0m\u001b[0m\n\u001b[0;32m--> 600\u001b[0;31m                         \u001b[0;32myield\u001b[0m \u001b[0mfs\u001b[0m\u001b[0;34m.\u001b[0m\u001b[0mpop\u001b[0m\u001b[0;34m(\u001b[0m\u001b[0;34m)\u001b[0m\u001b[0;34m.\u001b[0m\u001b[0mresult\u001b[0m\u001b[0;34m(\u001b[0m\u001b[0;34m)\u001b[0m\u001b[0;34m\u001b[0m\u001b[0;34m\u001b[0m\u001b[0m\n\u001b[0m\u001b[1;32m    601\u001b[0m                     \u001b[0;32melse\u001b[0m\u001b[0;34m:\u001b[0m\u001b[0;34m\u001b[0m\u001b[0;34m\u001b[0m\u001b[0m\n",
      "\u001b[0;32m/usr/lib/python3.9/concurrent/futures/_base.py\u001b[0m in \u001b[0;36mresult\u001b[0;34m(self, timeout)\u001b[0m\n\u001b[1;32m    434\u001b[0m \u001b[0;34m\u001b[0m\u001b[0m\n\u001b[0;32m--> 435\u001b[0;31m             \u001b[0mself\u001b[0m\u001b[0;34m.\u001b[0m\u001b[0m_condition\u001b[0m\u001b[0;34m.\u001b[0m\u001b[0mwait\u001b[0m\u001b[0;34m(\u001b[0m\u001b[0mtimeout\u001b[0m\u001b[0;34m)\u001b[0m\u001b[0;34m\u001b[0m\u001b[0;34m\u001b[0m\u001b[0m\n\u001b[0m\u001b[1;32m    436\u001b[0m \u001b[0;34m\u001b[0m\u001b[0m\n",
      "\u001b[0;32m/usr/lib/python3.9/threading.py\u001b[0m in \u001b[0;36mwait\u001b[0;34m(self, timeout)\u001b[0m\n\u001b[1;32m    311\u001b[0m             \u001b[0;32mif\u001b[0m \u001b[0mtimeout\u001b[0m \u001b[0;32mis\u001b[0m \u001b[0;32mNone\u001b[0m\u001b[0;34m:\u001b[0m\u001b[0;34m\u001b[0m\u001b[0;34m\u001b[0m\u001b[0m\n\u001b[0;32m--> 312\u001b[0;31m                 \u001b[0mwaiter\u001b[0m\u001b[0;34m.\u001b[0m\u001b[0macquire\u001b[0m\u001b[0;34m(\u001b[0m\u001b[0;34m)\u001b[0m\u001b[0;34m\u001b[0m\u001b[0;34m\u001b[0m\u001b[0m\n\u001b[0m\u001b[1;32m    313\u001b[0m                 \u001b[0mgotit\u001b[0m \u001b[0;34m=\u001b[0m \u001b[0;32mTrue\u001b[0m\u001b[0;34m\u001b[0m\u001b[0;34m\u001b[0m\u001b[0m\n",
      "\u001b[0;31mKeyboardInterrupt\u001b[0m: ",
      "\nDuring handling of the above exception, another exception occurred:\n",
      "\u001b[0;31mKeyboardInterrupt\u001b[0m                         Traceback (most recent call last)",
      "\u001b[0;32m<ipython-input-6-8cd25d342bd0>\u001b[0m in \u001b[0;36m<module>\u001b[0;34m\u001b[0m\n\u001b[1;32m     14\u001b[0m \u001b[0;34m\u001b[0m\u001b[0m\n\u001b[1;32m     15\u001b[0m     \u001b[0;32mwith\u001b[0m \u001b[0mfutures\u001b[0m\u001b[0;34m.\u001b[0m\u001b[0mProcessPoolExecutor\u001b[0m\u001b[0;34m(\u001b[0m\u001b[0;34m)\u001b[0m \u001b[0;32mas\u001b[0m \u001b[0mexecutor\u001b[0m\u001b[0;34m:\u001b[0m\u001b[0;34m\u001b[0m\u001b[0;34m\u001b[0m\u001b[0m\n\u001b[0;32m---> 16\u001b[0;31m         cross_tab.append(list(tqdm(executor.map(minor_search, itertools.repeat(major1), all_majors, major2_subsets),\n\u001b[0m\u001b[1;32m     17\u001b[0m                                    total=len(all_majors), desc='Major 2', leave=False)))\n",
      "\u001b[0;32m/usr/lib/python3.9/concurrent/futures/_base.py\u001b[0m in \u001b[0;36m__exit__\u001b[0;34m(self, exc_type, exc_val, exc_tb)\u001b[0m\n\u001b[1;32m    626\u001b[0m \u001b[0;34m\u001b[0m\u001b[0m\n\u001b[1;32m    627\u001b[0m     \u001b[0;32mdef\u001b[0m \u001b[0m__exit__\u001b[0m\u001b[0;34m(\u001b[0m\u001b[0mself\u001b[0m\u001b[0;34m,\u001b[0m \u001b[0mexc_type\u001b[0m\u001b[0;34m,\u001b[0m \u001b[0mexc_val\u001b[0m\u001b[0;34m,\u001b[0m \u001b[0mexc_tb\u001b[0m\u001b[0;34m)\u001b[0m\u001b[0;34m:\u001b[0m\u001b[0;34m\u001b[0m\u001b[0;34m\u001b[0m\u001b[0m\n\u001b[0;32m--> 628\u001b[0;31m         \u001b[0mself\u001b[0m\u001b[0;34m.\u001b[0m\u001b[0mshutdown\u001b[0m\u001b[0;34m(\u001b[0m\u001b[0mwait\u001b[0m\u001b[0;34m=\u001b[0m\u001b[0;32mTrue\u001b[0m\u001b[0;34m)\u001b[0m\u001b[0;34m\u001b[0m\u001b[0;34m\u001b[0m\u001b[0m\n\u001b[0m\u001b[1;32m    629\u001b[0m         \u001b[0;32mreturn\u001b[0m \u001b[0;32mFalse\u001b[0m\u001b[0;34m\u001b[0m\u001b[0;34m\u001b[0m\u001b[0m\n\u001b[1;32m    630\u001b[0m \u001b[0;34m\u001b[0m\u001b[0m\n",
      "\u001b[0;32m/usr/lib/python3.9/concurrent/futures/process.py\u001b[0m in \u001b[0;36mshutdown\u001b[0;34m(self, wait, cancel_futures)\u001b[0m\n\u001b[1;32m    738\u001b[0m \u001b[0;34m\u001b[0m\u001b[0m\n\u001b[1;32m    739\u001b[0m         \u001b[0;32mif\u001b[0m \u001b[0mself\u001b[0m\u001b[0;34m.\u001b[0m\u001b[0m_executor_manager_thread\u001b[0m \u001b[0;32mis\u001b[0m \u001b[0;32mnot\u001b[0m \u001b[0;32mNone\u001b[0m \u001b[0;32mand\u001b[0m \u001b[0mwait\u001b[0m\u001b[0;34m:\u001b[0m\u001b[0;34m\u001b[0m\u001b[0;34m\u001b[0m\u001b[0m\n\u001b[0;32m--> 740\u001b[0;31m             \u001b[0mself\u001b[0m\u001b[0;34m.\u001b[0m\u001b[0m_executor_manager_thread\u001b[0m\u001b[0;34m.\u001b[0m\u001b[0mjoin\u001b[0m\u001b[0;34m(\u001b[0m\u001b[0;34m)\u001b[0m\u001b[0;34m\u001b[0m\u001b[0;34m\u001b[0m\u001b[0m\n\u001b[0m\u001b[1;32m    741\u001b[0m         \u001b[0;31m# To reduce the risk of opening too many files, remove references to\u001b[0m\u001b[0;34m\u001b[0m\u001b[0;34m\u001b[0m\u001b[0;34m\u001b[0m\u001b[0m\n\u001b[1;32m    742\u001b[0m         \u001b[0;31m# objects that use file descriptors.\u001b[0m\u001b[0;34m\u001b[0m\u001b[0;34m\u001b[0m\u001b[0;34m\u001b[0m\u001b[0m\n",
      "\u001b[0;32m/usr/lib/python3.9/threading.py\u001b[0m in \u001b[0;36mjoin\u001b[0;34m(self, timeout)\u001b[0m\n\u001b[1;32m   1031\u001b[0m \u001b[0;34m\u001b[0m\u001b[0m\n\u001b[1;32m   1032\u001b[0m         \u001b[0;32mif\u001b[0m \u001b[0mtimeout\u001b[0m \u001b[0;32mis\u001b[0m \u001b[0;32mNone\u001b[0m\u001b[0;34m:\u001b[0m\u001b[0;34m\u001b[0m\u001b[0;34m\u001b[0m\u001b[0m\n\u001b[0;32m-> 1033\u001b[0;31m             \u001b[0mself\u001b[0m\u001b[0;34m.\u001b[0m\u001b[0m_wait_for_tstate_lock\u001b[0m\u001b[0;34m(\u001b[0m\u001b[0;34m)\u001b[0m\u001b[0;34m\u001b[0m\u001b[0;34m\u001b[0m\u001b[0m\n\u001b[0m\u001b[1;32m   1034\u001b[0m         \u001b[0;32melse\u001b[0m\u001b[0;34m:\u001b[0m\u001b[0;34m\u001b[0m\u001b[0;34m\u001b[0m\u001b[0m\n\u001b[1;32m   1035\u001b[0m             \u001b[0;31m# the behavior of a negative timeout isn't documented, but\u001b[0m\u001b[0;34m\u001b[0m\u001b[0;34m\u001b[0m\u001b[0;34m\u001b[0m\u001b[0m\n",
      "\u001b[0;32m/usr/lib/python3.9/threading.py\u001b[0m in \u001b[0;36m_wait_for_tstate_lock\u001b[0;34m(self, block, timeout)\u001b[0m\n\u001b[1;32m   1047\u001b[0m         \u001b[0;32mif\u001b[0m \u001b[0mlock\u001b[0m \u001b[0;32mis\u001b[0m \u001b[0;32mNone\u001b[0m\u001b[0;34m:\u001b[0m  \u001b[0;31m# already determined that the C code is done\u001b[0m\u001b[0;34m\u001b[0m\u001b[0;34m\u001b[0m\u001b[0m\n\u001b[1;32m   1048\u001b[0m             \u001b[0;32massert\u001b[0m \u001b[0mself\u001b[0m\u001b[0;34m.\u001b[0m\u001b[0m_is_stopped\u001b[0m\u001b[0;34m\u001b[0m\u001b[0;34m\u001b[0m\u001b[0m\n\u001b[0;32m-> 1049\u001b[0;31m         \u001b[0;32melif\u001b[0m \u001b[0mlock\u001b[0m\u001b[0;34m.\u001b[0m\u001b[0macquire\u001b[0m\u001b[0;34m(\u001b[0m\u001b[0mblock\u001b[0m\u001b[0;34m,\u001b[0m \u001b[0mtimeout\u001b[0m\u001b[0;34m)\u001b[0m\u001b[0;34m:\u001b[0m\u001b[0;34m\u001b[0m\u001b[0;34m\u001b[0m\u001b[0m\n\u001b[0m\u001b[1;32m   1050\u001b[0m             \u001b[0mlock\u001b[0m\u001b[0;34m.\u001b[0m\u001b[0mrelease\u001b[0m\u001b[0;34m(\u001b[0m\u001b[0;34m)\u001b[0m\u001b[0;34m\u001b[0m\u001b[0;34m\u001b[0m\u001b[0m\n\u001b[1;32m   1051\u001b[0m             \u001b[0mself\u001b[0m\u001b[0;34m.\u001b[0m\u001b[0m_stop\u001b[0m\u001b[0;34m(\u001b[0m\u001b[0;34m)\u001b[0m\u001b[0;34m\u001b[0m\u001b[0;34m\u001b[0m\u001b[0m\n",
      "\u001b[0;31mKeyboardInterrupt\u001b[0m: "
     ]
    }
   ],
   "source": [
    "cross_tab = []\n",
    "for major1 in tqdm(all_majors, desc='Major 1'):\n",
    "    if major1 is np.nan:\n",
    "        continue\n",
    "        \n",
    "    major2_subsets = []\n",
    "    for major2 in all_majors:\n",
    "        if major2 is np.nan:\n",
    "            major_specific = (subset['Major #1'] == major1) & (subset['Major #2'].isna())\n",
    "        else:\n",
    "            major_specific = ((subset['Major #1'] == major1) & (subset['Major #2'] == major2)) | \\\n",
    "                             ((subset['Major #1'] == major2) & (subset['Major #2'] == major1))\n",
    "        major2_subsets.append(subset[major_specific])\n",
    "    \n",
    "    with futures.ProcessPoolExecutor() as executor:\n",
    "        cross_tab.append(list(tqdm(executor.map(minor_search, itertools.repeat(major1), all_majors, major2_subsets),\n",
    "                                   total=len(all_majors), desc='Major 2', leave=False)))"
   ]
  },
  {
   "cell_type": "code",
   "execution_count": null,
   "id": "338a4971-dc5c-4dbc-a968-ea525230c436",
   "metadata": {},
   "outputs": [],
   "source": []
  },
  {
   "cell_type": "code",
   "execution_count": null,
   "id": "5313fb19-323b-430c-a50e-8bcde054d6c7",
   "metadata": {},
   "outputs": [],
   "source": []
  }
 ],
 "metadata": {
  "kernelspec": {
   "display_name": "Python 3",
   "language": "python",
   "name": "python3"
  },
  "language_info": {
   "codemirror_mode": {
    "name": "ipython",
    "version": 3
   },
   "file_extension": ".py",
   "mimetype": "text/x-python",
   "name": "python",
   "nbconvert_exporter": "python",
   "pygments_lexer": "ipython3",
   "version": "3.9.2"
  }
 },
 "nbformat": 4,
 "nbformat_minor": 5
}

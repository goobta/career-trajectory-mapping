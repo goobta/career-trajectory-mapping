{
 "cells": [
  {
   "cell_type": "markdown",
   "id": "a6a1540e-56be-4d01-bc6e-34b3dbed7c20",
   "metadata": {},
   "source": [
    "# Prepare Sankey Data"
   ]
  },
  {
   "cell_type": "code",
   "execution_count": null,
   "id": "392655fb-ed03-467c-893f-f84f4a618f14",
   "metadata": {},
   "outputs": [],
   "source": [
    "from tqdm.notebook import tqdm\n",
    "from concurrent import futures\n",
    "\n",
    "import itertools\n",
    "import pandas as pd\n",
    "import numpy as np"
   ]
  },
  {
   "cell_type": "code",
   "execution_count": null,
   "id": "5fd83b1a-9c9b-457e-8f3a-7d1d578cbad0",
   "metadata": {},
   "outputs": [],
   "source": [
    "subset = pd.read_csv('alum-edu-hist.csv')\n",
    "subset"
   ]
  },
  {
   "cell_type": "code",
   "execution_count": null,
   "id": "666eec35-b5a6-4257-9190-ab285f9ad20f",
   "metadata": {},
   "outputs": [],
   "source": [
    "subset.columns"
   ]
  },
  {
   "cell_type": "code",
   "execution_count": null,
   "id": "fee818db-1c7b-4041-9220-77c58b1cde00",
   "metadata": {},
   "outputs": [],
   "source": [
    "all_majors = pd.concat((subset['Major #1'], subset['Major #2'])).unique()\n",
    "all_minors = pd.concat((subset['Minor #1'], subset['Minor #2'])).unique()"
   ]
  },
  {
   "cell_type": "code",
   "execution_count": null,
   "id": "3792cf8d-97dd-4b5c-84aa-718536651957",
   "metadata": {},
   "outputs": [],
   "source": [
    "def minor_search(major1, major2, major_subset):\n",
    "    tabs = []    \n",
    "    for minor1 in all_minors:\n",
    "        if minor1 is np.nan:\n",
    "            cnt = major_subset[(major_subset['Minor #1'].isna()) & (major_subset['Minor #2'].isna())].shape[0]\n",
    "            if cnt:\n",
    "                tabs.append({\n",
    "                'major1': major1,\n",
    "                'major2': 'None' if isinstance(major2, float) else major2,\n",
    "                'minor1': 'None',\n",
    "                'minor2': 'None',\n",
    "                'cnt': cnt,\n",
    "                })\n",
    "                continue\n",
    "        if minor1 in (major1, major2):\n",
    "            continue\n",
    "            \n",
    "        for minor2 in all_minors:\n",
    "            if minor2 is np.nan:\n",
    "                if minor2 in (major1, major2):\n",
    "                    continue\n",
    "                \n",
    "                cnt = major_subset[(major_subset['Minor #1'] == minor1) & (major_subset['Minor #2'].isna())].shape[0]\n",
    "            else:\n",
    "                cnt = major_subset[((major_subset['Minor #1'] == minor1) & (major_subset['Minor #2'] == minor2)) | \\\n",
    "                                   ((major_subset['Minor #1'] == minor2) & (major_subset['Minor #2'] == minor1))].shape[0]\n",
    "                    \n",
    "            if cnt:\n",
    "                tabs.append({\n",
    "                    'major1': major1,\n",
    "                    'major2': 'None' if isinstance(major2, float) else major2,\n",
    "                    'minor1': minor1,\n",
    "                    'minor2': 'None' if minor2 is np.nan else minor2,\n",
    "                    'cnt': cnt\n",
    "                })\n",
    "    return tabs"
   ]
  },
  {
   "cell_type": "code",
   "execution_count": null,
   "id": "a8ee1d26-f78c-44f4-afb2-e27923470958",
   "metadata": {
    "tags": []
   },
   "outputs": [],
   "source": [
    "cross_tab = []\n",
    "for major1 in tqdm(all_majors, desc='Major 1'):\n",
    "    if major1 is np.nan:\n",
    "        continue\n",
    "        \n",
    "    major2_subsets = []\n",
    "    for major2 in all_majors:\n",
    "        if major2 is np.nan:\n",
    "            major_specific = (subset['Major #1'] == major1) & (subset['Major #2'].isna())\n",
    "        else:\n",
    "            major_specific = ((subset['Major #1'] == major1) & (subset['Major #2'] == major2)) | \\\n",
    "                             ((subset['Major #1'] == major2) & (subset['Major #2'] == major1))\n",
    "        major2_subsets.append(subset[major_specific])\n",
    "    \n",
    "    with futures.ProcessPoolExecutor() as executor:\n",
    "        cross_tab.append(list(tqdm(executor.map(minor_search, itertools.repeat(major1), all_majors, major2_subsets),\n",
    "                                   total=len(all_majors), desc='Major 2', leave=False)))"
   ]
  },
  {
   "cell_type": "code",
   "execution_count": null,
   "id": "338a4971-dc5c-4dbc-a968-ea525230c436",
   "metadata": {},
   "outputs": [],
   "source": []
  },
  {
   "cell_type": "code",
   "execution_count": null,
   "id": "5313fb19-323b-430c-a50e-8bcde054d6c7",
   "metadata": {},
   "outputs": [],
   "source": []
  }
 ],
 "metadata": {
  "kernelspec": {
   "display_name": "Python 3",
   "language": "python",
   "name": "python3"
  },
  "language_info": {
   "codemirror_mode": {
    "name": "ipython",
    "version": 3
   },
   "file_extension": ".py",
   "mimetype": "text/x-python",
   "name": "python",
   "nbconvert_exporter": "python",
   "pygments_lexer": "ipython3",
   "version": "3.9.2"
  }
 },
 "nbformat": 4,
 "nbformat_minor": 5
}
